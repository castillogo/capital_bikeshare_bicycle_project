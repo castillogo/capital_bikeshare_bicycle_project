{
 "cells": [
  {
   "cell_type": "code",
   "execution_count": 1,
   "metadata": {},
   "outputs": [],
   "source": [
    "import pandas as pd\n",
    "import os\n",
    "import datetime"
   ]
  },
  {
   "cell_type": "code",
   "execution_count": 7,
   "metadata": {},
   "outputs": [],
   "source": [
    "df_Q1 = pd.read_csv('2017Q1-capitalbikeshare-tripdata.csv')"
   ]
  },
  {
   "cell_type": "code",
   "execution_count": 8,
   "metadata": {},
   "outputs": [],
   "source": [
    "df_Q1.Duration = pd.to_timedelta(df_Q1.Duration, unit='s')"
   ]
  },
  {
   "cell_type": "code",
   "execution_count": 9,
   "metadata": {},
   "outputs": [],
   "source": [
    "df_Q1['Start date'] = pd.to_datetime(df_Q1['Start date'])"
   ]
  },
  {
   "cell_type": "code",
   "execution_count": 10,
   "metadata": {},
   "outputs": [],
   "source": [
    "df_Q1.set_index('Start date', inplace=True)"
   ]
  },
  {
   "cell_type": "code",
   "execution_count": 11,
   "metadata": {},
   "outputs": [
    {
     "data": {
      "text/plain": [
       "Int64Index([ 0,  0,  0,  0,  0,  0,  0,  0,  0,  0,\n",
       "            ...\n",
       "            23, 23, 23, 23, 23, 23, 23, 23, 23, 23],\n",
       "           dtype='int64', name='Start date', length=646510)"
      ]
     },
     "execution_count": 11,
     "metadata": {},
     "output_type": "execute_result"
    }
   ],
   "source": [
    "df_Q1.index.hour"
   ]
  },
  {
   "cell_type": "code",
   "execution_count": 12,
   "metadata": {},
   "outputs": [
    {
     "data": {
      "text/plain": [
       "DatetimeIndex(['2017-01-01 00:00:00', '2017-01-01 00:00:00',\n",
       "               '2017-01-01 00:00:00', '2017-01-01 00:00:00',\n",
       "               '2017-01-01 00:00:00', '2017-01-01 00:00:00',\n",
       "               '2017-01-01 00:00:00', '2017-01-01 00:00:00',\n",
       "               '2017-01-01 00:00:00', '2017-01-01 00:00:00',\n",
       "               ...\n",
       "               '2017-03-31 23:00:00', '2017-03-31 23:00:00',\n",
       "               '2017-03-31 23:00:00', '2017-03-31 23:00:00',\n",
       "               '2017-03-31 23:00:00', '2017-03-31 23:00:00',\n",
       "               '2017-03-31 23:00:00', '2017-03-31 23:00:00',\n",
       "               '2017-03-31 23:00:00', '2017-03-31 23:00:00'],\n",
       "              dtype='datetime64[ns]', name='Start date', length=646510, freq=None)"
      ]
     },
     "execution_count": 12,
     "metadata": {},
     "output_type": "execute_result"
    }
   ],
   "source": [
    "df_Q1.index.floor(freq='H')"
   ]
  },
  {
   "cell_type": "code",
   "execution_count": 13,
   "metadata": {},
   "outputs": [],
   "source": [
    "import requests\n",
    "from datetime import datetime"
   ]
  },
  {
   "cell_type": "code",
   "execution_count": 14,
   "metadata": {},
   "outputs": [
    {
     "data": {
      "text/plain": [
       "<function requests.api.get(url, params=None, **kwargs)>"
      ]
     },
     "execution_count": 14,
     "metadata": {},
     "output_type": "execute_result"
    }
   ],
   "source": [
    "requests.get"
   ]
  },
  {
   "cell_type": "code",
   "execution_count": 16,
   "metadata": {},
   "outputs": [],
   "source": [
    "date_range_Q1 = pd.date_range('2017/1/1', '2017/3/30', freq='D').tz_localize('US/Eastern')\n",
    "weather_Q1 = pd.DataFrame()\n",
    "for date in date_range_Q1:\n",
    "    #result_Q1 = requests.get(f'https://api.darksky.net/forecast/{secret key}/38.907,-77.0417,{int(date.timestamp())}?units=ca')\n",
    "    result_json_Q1 = result_Q1.json()\n",
    "    df_weather_Q1 = pd.DataFrame(columns=['time', 'temperature', 'atemperatue', 'humidity', 'windSpeed'])\n",
    "    for entry in result_json_Q1['hourly']['data']:\n",
    "        df_weather_Q1.loc[len(df_weather_Q1)] = [pd.to_datetime(entry['time'], unit='s').tz_localize('uct').tz_convert('US/Eastern'), entry['temperature'], entry['apparentTemperature'], entry['humidity'], entry['windSpeed']]\n",
    "        weather_Q1 = pd.concat([weather_Q1, df_weather_Q1], sort=True)"
   ]
  },
  {
   "cell_type": "code",
   "execution_count": 17,
   "metadata": {},
   "outputs": [],
   "source": [
    "weather_Q1.to_csv('weatherwashingtonQ1.csv', index=False)"
   ]
  },
  {
   "cell_type": "code",
   "execution_count": 54,
   "metadata": {},
   "outputs": [],
   "source": [
    "df_weather_Q1 = pd.read_csv('weatherwashingtonQ1.csv')"
   ]
  },
  {
   "cell_type": "code",
   "execution_count": 19,
   "metadata": {},
   "outputs": [],
   "source": [
    "df_weather_Q1.rename(columns = {'time':'datetime'}, inplace = True)"
   ]
  },
  {
   "cell_type": "code",
   "execution_count": 20,
   "metadata": {},
   "outputs": [],
   "source": [
    "df_weather_Q1_B = df_weather_Q1.set_index('datetime')"
   ]
  },
  {
   "cell_type": "code",
   "execution_count": 21,
   "metadata": {},
   "outputs": [],
   "source": [
    "df_weather_Q1['datetimelocal'] = df_weather_Q1.datetime.str[0:19]"
   ]
  },
  {
   "cell_type": "code",
   "execution_count": 22,
   "metadata": {},
   "outputs": [],
   "source": [
    "df_weather_Q1_C = df_weather_Q1"
   ]
  },
  {
   "cell_type": "code",
   "execution_count": 23,
   "metadata": {},
   "outputs": [],
   "source": [
    "dfnew_Q1=df_Q1.reset_index()"
   ]
  },
  {
   "cell_type": "code",
   "execution_count": 24,
   "metadata": {},
   "outputs": [],
   "source": [
    "dfnew_Q1['datetime'] = dfnew_Q1['Start date'].dt.floor('H')"
   ]
  },
  {
   "cell_type": "code",
   "execution_count": 25,
   "metadata": {},
   "outputs": [],
   "source": [
    "dfnew_Q1['datetimelocal'] = dfnew_Q1['datetime'].astype(str)"
   ]
  },
  {
   "cell_type": "code",
   "execution_count": 26,
   "metadata": {},
   "outputs": [],
   "source": [
    "dfnew_Q1_B = dfnew_Q1.set_index('datetimelocal')"
   ]
  },
  {
   "cell_type": "code",
   "execution_count": 27,
   "metadata": {},
   "outputs": [],
   "source": [
    "result_Q1=df_weather_Q1_C.merge(dfnew_Q1_B, on='datetimelocal')"
   ]
  },
  {
   "cell_type": "code",
   "execution_count": 28,
   "metadata": {},
   "outputs": [],
   "source": [
    "df_Q2 = pd.read_csv('2017Q2-capitalbikeshare-tripdata.csv')"
   ]
  },
  {
   "cell_type": "code",
   "execution_count": 29,
   "metadata": {},
   "outputs": [],
   "source": [
    "df_Q2.Duration = pd.to_timedelta(df_Q2.Duration, unit='s')"
   ]
  },
  {
   "cell_type": "code",
   "execution_count": 30,
   "metadata": {},
   "outputs": [],
   "source": [
    "df_Q2['Start date'] = pd.to_datetime(df_Q2['Start date'])"
   ]
  },
  {
   "cell_type": "code",
   "execution_count": 31,
   "metadata": {},
   "outputs": [],
   "source": [
    "df_Q2.set_index('Start date', inplace=True)"
   ]
  },
  {
   "cell_type": "code",
   "execution_count": 32,
   "metadata": {},
   "outputs": [
    {
     "data": {
      "text/plain": [
       "Int64Index([ 0,  0,  0,  0,  0,  0,  0,  0,  0,  0,\n",
       "            ...\n",
       "            23, 23, 23, 23, 23, 23, 23, 23, 23, 23],\n",
       "           dtype='int64', name='Start date', length=1104418)"
      ]
     },
     "execution_count": 32,
     "metadata": {},
     "output_type": "execute_result"
    }
   ],
   "source": [
    "df_Q2.index.hour"
   ]
  },
  {
   "cell_type": "code",
   "execution_count": 33,
   "metadata": {},
   "outputs": [
    {
     "data": {
      "text/plain": [
       "DatetimeIndex(['2017-04-01 00:00:00', '2017-04-01 00:00:00',\n",
       "               '2017-04-01 00:00:00', '2017-04-01 00:00:00',\n",
       "               '2017-04-01 00:00:00', '2017-04-01 00:00:00',\n",
       "               '2017-04-01 00:00:00', '2017-04-01 00:00:00',\n",
       "               '2017-04-01 00:00:00', '2017-04-01 00:00:00',\n",
       "               ...\n",
       "               '2017-06-30 23:00:00', '2017-06-30 23:00:00',\n",
       "               '2017-06-30 23:00:00', '2017-06-30 23:00:00',\n",
       "               '2017-06-30 23:00:00', '2017-06-30 23:00:00',\n",
       "               '2017-06-30 23:00:00', '2017-06-30 23:00:00',\n",
       "               '2017-06-30 23:00:00', '2017-06-30 23:00:00'],\n",
       "              dtype='datetime64[ns]', name='Start date', length=1104418, freq=None)"
      ]
     },
     "execution_count": 33,
     "metadata": {},
     "output_type": "execute_result"
    }
   ],
   "source": [
    "df_Q2.index.floor(freq='H')"
   ]
  },
  {
   "cell_type": "code",
   "execution_count": 34,
   "metadata": {},
   "outputs": [],
   "source": [
    "df_weather_Q2 = pd.read_csv('weatherwashingtonQ2.csv')"
   ]
  },
  {
   "cell_type": "code",
   "execution_count": 35,
   "metadata": {},
   "outputs": [],
   "source": [
    "df_weather_Q2.rename(columns = {'time':'datetime'}, inplace = True)"
   ]
  },
  {
   "cell_type": "code",
   "execution_count": 36,
   "metadata": {},
   "outputs": [],
   "source": [
    "df_weather_Q2_B = df_weather_Q2.set_index('datetime')"
   ]
  },
  {
   "cell_type": "code",
   "execution_count": 37,
   "metadata": {},
   "outputs": [],
   "source": [
    "df_weather_Q2['datetimelocal'] = df_weather_Q2.datetime.str[0:19]"
   ]
  },
  {
   "cell_type": "code",
   "execution_count": 38,
   "metadata": {},
   "outputs": [],
   "source": [
    "df_weather_Q2_C = df_weather_Q2"
   ]
  },
  {
   "cell_type": "code",
   "execution_count": 39,
   "metadata": {},
   "outputs": [],
   "source": [
    "dfnew_Q2=df_Q2.reset_index()"
   ]
  },
  {
   "cell_type": "code",
   "execution_count": 40,
   "metadata": {},
   "outputs": [],
   "source": [
    "dfnew_Q2['datetime'] = dfnew_Q2['Start date'].dt.floor('H')"
   ]
  },
  {
   "cell_type": "code",
   "execution_count": 41,
   "metadata": {},
   "outputs": [],
   "source": [
    "dfnew_Q2['datetimelocal'] = dfnew_Q2['datetime'].astype(str)"
   ]
  },
  {
   "cell_type": "code",
   "execution_count": 42,
   "metadata": {},
   "outputs": [],
   "source": [
    "dfnew_Q2_B = dfnew_Q2.set_index('datetimelocal')"
   ]
  },
  {
   "cell_type": "code",
   "execution_count": 43,
   "metadata": {},
   "outputs": [],
   "source": [
    "result_Q2=df_weather_Q2_C.merge(dfnew_Q2_B, on='datetimelocal')"
   ]
  },
  {
   "cell_type": "code",
   "execution_count": 44,
   "metadata": {},
   "outputs": [],
   "source": [
    "df_Q3 = pd.read_csv('2017Q3-capitalbikeshare-tripdata.csv')"
   ]
  },
  {
   "cell_type": "code",
   "execution_count": 45,
   "metadata": {},
   "outputs": [],
   "source": [
    "df_Q3.Duration = pd.to_timedelta(df_Q3.Duration, unit='s')"
   ]
  },
  {
   "cell_type": "code",
   "execution_count": 46,
   "metadata": {},
   "outputs": [],
   "source": [
    "df_Q3['Start date'] = pd.to_datetime(df_Q3['Start date'])"
   ]
  },
  {
   "cell_type": "code",
   "execution_count": 47,
   "metadata": {},
   "outputs": [],
   "source": [
    "df_Q3.set_index('Start date', inplace=True)"
   ]
  },
  {
   "cell_type": "code",
   "execution_count": 48,
   "metadata": {},
   "outputs": [
    {
     "data": {
      "text/plain": [
       "Int64Index([ 0,  0,  0,  0,  0,  0,  0,  0,  0,  0,\n",
       "            ...\n",
       "            23, 23, 23, 23, 23, 23, 23, 23, 23, 23],\n",
       "           dtype='int64', name='Start date', length=1191585)"
      ]
     },
     "execution_count": 48,
     "metadata": {},
     "output_type": "execute_result"
    }
   ],
   "source": [
    "df_Q3.index.hour"
   ]
  },
  {
   "cell_type": "code",
   "execution_count": 49,
   "metadata": {},
   "outputs": [
    {
     "data": {
      "text/plain": [
       "DatetimeIndex(['2017-07-01 00:00:00', '2017-07-01 00:00:00',\n",
       "               '2017-07-01 00:00:00', '2017-07-01 00:00:00',\n",
       "               '2017-07-01 00:00:00', '2017-07-01 00:00:00',\n",
       "               '2017-07-01 00:00:00', '2017-07-01 00:00:00',\n",
       "               '2017-07-01 00:00:00', '2017-07-01 00:00:00',\n",
       "               ...\n",
       "               '2017-09-30 23:00:00', '2017-09-30 23:00:00',\n",
       "               '2017-09-30 23:00:00', '2017-09-30 23:00:00',\n",
       "               '2017-09-30 23:00:00', '2017-09-30 23:00:00',\n",
       "               '2017-09-30 23:00:00', '2017-09-30 23:00:00',\n",
       "               '2017-09-30 23:00:00', '2017-09-30 23:00:00'],\n",
       "              dtype='datetime64[ns]', name='Start date', length=1191585, freq=None)"
      ]
     },
     "execution_count": 49,
     "metadata": {},
     "output_type": "execute_result"
    }
   ],
   "source": [
    "df_Q3.index.floor(freq='H')"
   ]
  },
  {
   "cell_type": "code",
   "execution_count": 50,
   "metadata": {},
   "outputs": [],
   "source": [
    "date_range_Q3 = pd.date_range('2017/7/1', '2017/9/30', freq='D').tz_localize('US/Eastern')\n",
    "weather_Q3 = pd.DataFrame()\n",
    "for date in date_range_Q3:\n",
    "    result_Q3 = requests.get(f'https://api.darksky.net/forecast/8573e2b1efaaf449cf1c97d49080c952/38.907,-77.0417,{int(date.timestamp())}?units=ca')\n",
    "    result_json_Q3 = result_Q3.json()\n",
    "    df_weather_Q3 = pd.DataFrame(columns=['time', 'temperature', 'atemperatue', 'humidity', 'windSpeed'])\n",
    "    for entry in result_json_Q3['hourly']['data']:\n",
    "        df_weather_Q3.loc[len(df_weather_Q3)] = [pd.to_datetime(entry['time'], unit='s').tz_localize('uct').tz_convert('US/Eastern'), entry['temperature'], entry['apparentTemperature'], entry['humidity'], entry['windSpeed']]\n",
    "        weather_Q3 = pd.concat([weather_Q3, df_weather_Q3], sort=True)"
   ]
  },
  {
   "cell_type": "code",
   "execution_count": 51,
   "metadata": {},
   "outputs": [],
   "source": [
    "weather_Q3.to_csv('weatherwashingtonQ3.csv', index=False)"
   ]
  },
  {
   "cell_type": "code",
   "execution_count": 53,
   "metadata": {},
   "outputs": [],
   "source": [
    "df_weather_Q3 = pd.read_csv('weatherwashingtonQ3.csv')"
   ]
  },
  {
   "cell_type": "code",
   "execution_count": 55,
   "metadata": {},
   "outputs": [],
   "source": [
    "df_weather_Q3.rename(columns = {'time':'datetime'}, inplace = True)"
   ]
  },
  {
   "cell_type": "code",
   "execution_count": 56,
   "metadata": {},
   "outputs": [],
   "source": [
    "df_weather_Q3_B = df_weather_Q3.set_index('datetime')"
   ]
  },
  {
   "cell_type": "code",
   "execution_count": 57,
   "metadata": {},
   "outputs": [],
   "source": [
    "df_weather_Q3['datetimelocal'] = df_weather_Q3.datetime.str[0:19]"
   ]
  },
  {
   "cell_type": "code",
   "execution_count": 58,
   "metadata": {},
   "outputs": [],
   "source": [
    "df_weather_Q3_C = df_weather_Q3"
   ]
  },
  {
   "cell_type": "code",
   "execution_count": 59,
   "metadata": {},
   "outputs": [],
   "source": [
    "dfnew_Q3=df_Q3.reset_index()"
   ]
  },
  {
   "cell_type": "code",
   "execution_count": 60,
   "metadata": {},
   "outputs": [],
   "source": [
    "dfnew_Q3['datetime'] = dfnew_Q3['Start date'].dt.floor('H')"
   ]
  },
  {
   "cell_type": "code",
   "execution_count": 61,
   "metadata": {},
   "outputs": [],
   "source": [
    "dfnew_Q3['datetimelocal'] = dfnew_Q3['datetime'].astype(str)"
   ]
  },
  {
   "cell_type": "code",
   "execution_count": 62,
   "metadata": {},
   "outputs": [],
   "source": [
    "dfnew_Q3_B = dfnew_Q3.set_index('datetimelocal')"
   ]
  },
  {
   "cell_type": "code",
   "execution_count": 63,
   "metadata": {},
   "outputs": [],
   "source": [
    "result_Q3=df_weather_Q3_C.merge(dfnew_Q3_B, on='datetimelocal')"
   ]
  },
  {
   "cell_type": "code",
   "execution_count": 64,
   "metadata": {},
   "outputs": [],
   "source": [
    "df_Q4 = pd.read_csv('2017Q4-capitalbikeshare-tripdata.csv')"
   ]
  },
  {
   "cell_type": "code",
   "execution_count": 65,
   "metadata": {},
   "outputs": [],
   "source": [
    "df_Q4.Duration = pd.to_timedelta(df_Q4.Duration, unit='s')"
   ]
  },
  {
   "cell_type": "code",
   "execution_count": 66,
   "metadata": {},
   "outputs": [],
   "source": [
    "df_Q4['Start date'] = pd.to_datetime(df_Q4['Start date'])"
   ]
  },
  {
   "cell_type": "code",
   "execution_count": 67,
   "metadata": {},
   "outputs": [],
   "source": [
    "df_Q4.set_index('Start date', inplace=True)"
   ]
  },
  {
   "cell_type": "code",
   "execution_count": 68,
   "metadata": {},
   "outputs": [
    {
     "data": {
      "text/plain": [
       "Int64Index([ 0,  0,  0,  0,  0,  0,  0,  0,  0,  0,\n",
       "            ...\n",
       "            23, 23, 23, 23, 23, 23, 23, 23, 23, 23],\n",
       "           dtype='int64', name='Start date', length=815264)"
      ]
     },
     "execution_count": 68,
     "metadata": {},
     "output_type": "execute_result"
    }
   ],
   "source": [
    "df_Q4.index.hour"
   ]
  },
  {
   "cell_type": "code",
   "execution_count": 69,
   "metadata": {},
   "outputs": [
    {
     "data": {
      "text/plain": [
       "DatetimeIndex(['2017-10-01 00:00:00', '2017-10-01 00:00:00',\n",
       "               '2017-10-01 00:00:00', '2017-10-01 00:00:00',\n",
       "               '2017-10-01 00:00:00', '2017-10-01 00:00:00',\n",
       "               '2017-10-01 00:00:00', '2017-10-01 00:00:00',\n",
       "               '2017-10-01 00:00:00', '2017-10-01 00:00:00',\n",
       "               ...\n",
       "               '2017-12-31 23:00:00', '2017-12-31 23:00:00',\n",
       "               '2017-12-31 23:00:00', '2017-12-31 23:00:00',\n",
       "               '2017-12-31 23:00:00', '2017-12-31 23:00:00',\n",
       "               '2017-12-31 23:00:00', '2017-12-31 23:00:00',\n",
       "               '2017-12-31 23:00:00', '2017-12-31 23:00:00'],\n",
       "              dtype='datetime64[ns]', name='Start date', length=815264, freq=None)"
      ]
     },
     "execution_count": 69,
     "metadata": {},
     "output_type": "execute_result"
    }
   ],
   "source": [
    "df_Q4.index.floor(freq='H')"
   ]
  },
  {
   "cell_type": "code",
   "execution_count": 70,
   "metadata": {},
   "outputs": [],
   "source": [
    "date_range_Q4 = pd.date_range('2017/10/1', '2017/12/31', freq='D').tz_localize('US/Eastern')\n",
    "weather_Q4 = pd.DataFrame()\n",
    "for date in date_range_Q4:\n",
    "    result_Q4 = requests.get(f'https://api.darksky.net/forecast/8573e2b1efaaf449cf1c97d49080c952/38.907,-77.0417,{int(date.timestamp())}?units=ca')\n",
    "    result_json_Q4 = result_Q4.json()\n",
    "    df_weather_Q4 = pd.DataFrame(columns=['time', 'temperature', 'atemperatue', 'humidity', 'windSpeed'])\n",
    "    for entry in result_json_Q4['hourly']['data']:\n",
    "        df_weather_Q4.loc[len(df_weather_Q4)] = [pd.to_datetime(entry['time'], unit='s').tz_localize('uct').tz_convert('US/Eastern'), entry['temperature'], entry['apparentTemperature'], entry['humidity'], entry['windSpeed']]\n",
    "        weather_Q4 = pd.concat([weather_Q4, df_weather_Q4], sort=True)"
   ]
  },
  {
   "cell_type": "code",
   "execution_count": 71,
   "metadata": {},
   "outputs": [],
   "source": [
    "weather_Q4.to_csv('weatherwashingtonQ4.csv', index=False)"
   ]
  },
  {
   "cell_type": "code",
   "execution_count": 72,
   "metadata": {},
   "outputs": [],
   "source": [
    "df_weather_Q4 = pd.read_csv('weatherwashingtonQ4.csv')"
   ]
  },
  {
   "cell_type": "code",
   "execution_count": 73,
   "metadata": {},
   "outputs": [],
   "source": [
    "df_weather_Q4.rename(columns = {'time':'datetime'}, inplace = True)"
   ]
  },
  {
   "cell_type": "code",
   "execution_count": 74,
   "metadata": {},
   "outputs": [],
   "source": [
    "df_weather_Q4_B = df_weather_Q4.set_index('datetime')"
   ]
  },
  {
   "cell_type": "code",
   "execution_count": 75,
   "metadata": {},
   "outputs": [],
   "source": [
    "df_weather_Q4['datetimelocal'] = df_weather_Q4.datetime.str[0:19]"
   ]
  },
  {
   "cell_type": "code",
   "execution_count": 76,
   "metadata": {},
   "outputs": [],
   "source": [
    "df_weather_Q4_C = df_weather_Q4"
   ]
  },
  {
   "cell_type": "code",
   "execution_count": 77,
   "metadata": {},
   "outputs": [],
   "source": [
    "dfnew_Q4=df_Q4.reset_index()"
   ]
  },
  {
   "cell_type": "code",
   "execution_count": 78,
   "metadata": {},
   "outputs": [],
   "source": [
    "dfnew_Q4['datetime'] = dfnew_Q4['Start date'].dt.floor('H')"
   ]
  },
  {
   "cell_type": "code",
   "execution_count": 79,
   "metadata": {},
   "outputs": [],
   "source": [
    "dfnew_Q4['datetimelocal'] = dfnew_Q4['datetime'].astype(str)"
   ]
  },
  {
   "cell_type": "code",
   "execution_count": 80,
   "metadata": {},
   "outputs": [],
   "source": [
    "dfnew_Q4_B = dfnew_Q4.set_index('datetimelocal')"
   ]
  },
  {
   "cell_type": "code",
   "execution_count": 81,
   "metadata": {},
   "outputs": [],
   "source": [
    "result_Q4=df_weather_Q4_C.merge(dfnew_Q4_B, on='datetimelocal')"
   ]
  },
  {
   "cell_type": "code",
   "execution_count": 85,
   "metadata": {},
   "outputs": [
    {
     "data": {
      "text/html": [
       "<div>\n",
       "<style scoped>\n",
       "    .dataframe tbody tr th:only-of-type {\n",
       "        vertical-align: middle;\n",
       "    }\n",
       "\n",
       "    .dataframe tbody tr th {\n",
       "        vertical-align: top;\n",
       "    }\n",
       "\n",
       "    .dataframe thead th {\n",
       "        text-align: right;\n",
       "    }\n",
       "</style>\n",
       "<table border=\"1\" class=\"dataframe\">\n",
       "  <thead>\n",
       "    <tr style=\"text-align: right;\">\n",
       "      <th></th>\n",
       "      <th>atemperatue</th>\n",
       "      <th>humidity</th>\n",
       "      <th>temperature</th>\n",
       "      <th>datetime_x</th>\n",
       "      <th>windSpeed</th>\n",
       "      <th>datetimelocal</th>\n",
       "      <th>Start date</th>\n",
       "      <th>Duration</th>\n",
       "      <th>End date</th>\n",
       "      <th>Start station number</th>\n",
       "      <th>Start station</th>\n",
       "      <th>End station number</th>\n",
       "      <th>End station</th>\n",
       "      <th>Bike number</th>\n",
       "      <th>Member type</th>\n",
       "      <th>datetime_y</th>\n",
       "    </tr>\n",
       "  </thead>\n",
       "  <tbody>\n",
       "    <tr>\n",
       "      <td>0</td>\n",
       "      <td>12.43</td>\n",
       "      <td>0.65</td>\n",
       "      <td>12.43</td>\n",
       "      <td>2017-10-01 00:00:00-04:00</td>\n",
       "      <td>4.28</td>\n",
       "      <td>2017-10-01 00:00:00</td>\n",
       "      <td>2017-10-01 00:00:02</td>\n",
       "      <td>00:03:17</td>\n",
       "      <td>2017-10-01 00:03:19</td>\n",
       "      <td>31214</td>\n",
       "      <td>17th &amp; Corcoran St NW</td>\n",
       "      <td>31229</td>\n",
       "      <td>New Hampshire Ave &amp; T St NW</td>\n",
       "      <td>W21022</td>\n",
       "      <td>Member</td>\n",
       "      <td>2017-10-01 00:00:00</td>\n",
       "    </tr>\n",
       "    <tr>\n",
       "      <td>1</td>\n",
       "      <td>12.43</td>\n",
       "      <td>0.65</td>\n",
       "      <td>12.43</td>\n",
       "      <td>2017-10-01 00:00:00-04:00</td>\n",
       "      <td>4.28</td>\n",
       "      <td>2017-10-01 00:00:00</td>\n",
       "      <td>2017-10-01 00:00:23</td>\n",
       "      <td>00:07:14</td>\n",
       "      <td>2017-10-01 00:07:38</td>\n",
       "      <td>31104</td>\n",
       "      <td>Adams Mill &amp; Columbia Rd NW</td>\n",
       "      <td>31602</td>\n",
       "      <td>Park Rd &amp; Holmead Pl NW</td>\n",
       "      <td>W00470</td>\n",
       "      <td>Member</td>\n",
       "      <td>2017-10-01 00:00:00</td>\n",
       "    </tr>\n",
       "    <tr>\n",
       "      <td>2</td>\n",
       "      <td>12.43</td>\n",
       "      <td>0.65</td>\n",
       "      <td>12.43</td>\n",
       "      <td>2017-10-01 00:00:00-04:00</td>\n",
       "      <td>4.28</td>\n",
       "      <td>2017-10-01 00:00:00</td>\n",
       "      <td>2017-10-01 00:00:56</td>\n",
       "      <td>00:15:55</td>\n",
       "      <td>2017-10-01 00:16:52</td>\n",
       "      <td>31221</td>\n",
       "      <td>18th &amp; M St NW</td>\n",
       "      <td>31103</td>\n",
       "      <td>16th &amp; Harvard St NW</td>\n",
       "      <td>W20206</td>\n",
       "      <td>Member</td>\n",
       "      <td>2017-10-01 00:00:00</td>\n",
       "    </tr>\n",
       "    <tr>\n",
       "      <td>3</td>\n",
       "      <td>12.43</td>\n",
       "      <td>0.65</td>\n",
       "      <td>12.43</td>\n",
       "      <td>2017-10-01 00:00:00-04:00</td>\n",
       "      <td>4.28</td>\n",
       "      <td>2017-10-01 00:00:00</td>\n",
       "      <td>2017-10-01 00:00:56</td>\n",
       "      <td>00:07:41</td>\n",
       "      <td>2017-10-01 00:08:37</td>\n",
       "      <td>31111</td>\n",
       "      <td>10th &amp; U St NW</td>\n",
       "      <td>31102</td>\n",
       "      <td>11th &amp; Kenyon St NW</td>\n",
       "      <td>W21014</td>\n",
       "      <td>Member</td>\n",
       "      <td>2017-10-01 00:00:00</td>\n",
       "    </tr>\n",
       "    <tr>\n",
       "      <td>4</td>\n",
       "      <td>12.43</td>\n",
       "      <td>0.65</td>\n",
       "      <td>12.43</td>\n",
       "      <td>2017-10-01 00:00:00-04:00</td>\n",
       "      <td>4.28</td>\n",
       "      <td>2017-10-01 00:00:00</td>\n",
       "      <td>2017-10-01 00:00:59</td>\n",
       "      <td>00:55:57</td>\n",
       "      <td>2017-10-01 00:56:56</td>\n",
       "      <td>31260</td>\n",
       "      <td>23rd &amp; E St NW</td>\n",
       "      <td>31260</td>\n",
       "      <td>23rd &amp; E St NW</td>\n",
       "      <td>W22349</td>\n",
       "      <td>Casual</td>\n",
       "      <td>2017-10-01 00:00:00</td>\n",
       "    </tr>\n",
       "    <tr>\n",
       "      <td>...</td>\n",
       "      <td>...</td>\n",
       "      <td>...</td>\n",
       "      <td>...</td>\n",
       "      <td>...</td>\n",
       "      <td>...</td>\n",
       "      <td>...</td>\n",
       "      <td>...</td>\n",
       "      <td>...</td>\n",
       "      <td>...</td>\n",
       "      <td>...</td>\n",
       "      <td>...</td>\n",
       "      <td>...</td>\n",
       "      <td>...</td>\n",
       "      <td>...</td>\n",
       "      <td>...</td>\n",
       "      <td>...</td>\n",
       "    </tr>\n",
       "    <tr>\n",
       "      <td>8432396</td>\n",
       "      <td>-12.04</td>\n",
       "      <td>0.59</td>\n",
       "      <td>-8.92</td>\n",
       "      <td>2017-12-31 23:00:00-05:00</td>\n",
       "      <td>5.59</td>\n",
       "      <td>2017-12-31 23:00:00</td>\n",
       "      <td>2017-12-31 23:43:17</td>\n",
       "      <td>00:04:37</td>\n",
       "      <td>2017-12-31 23:47:54</td>\n",
       "      <td>31109</td>\n",
       "      <td>7th &amp; T St NW</td>\n",
       "      <td>31118</td>\n",
       "      <td>3rd &amp; Elm St NW</td>\n",
       "      <td>W21036</td>\n",
       "      <td>Member</td>\n",
       "      <td>2017-12-31 23:00:00</td>\n",
       "    </tr>\n",
       "    <tr>\n",
       "      <td>8432397</td>\n",
       "      <td>-12.04</td>\n",
       "      <td>0.59</td>\n",
       "      <td>-8.92</td>\n",
       "      <td>2017-12-31 23:00:00-05:00</td>\n",
       "      <td>5.59</td>\n",
       "      <td>2017-12-31 23:00:00</td>\n",
       "      <td>2017-12-31 23:51:55</td>\n",
       "      <td>00:06:39</td>\n",
       "      <td>2017-12-31 23:58:35</td>\n",
       "      <td>31125</td>\n",
       "      <td>15th &amp; W St NW</td>\n",
       "      <td>31110</td>\n",
       "      <td>20th St &amp; Florida Ave NW</td>\n",
       "      <td>W23147</td>\n",
       "      <td>Casual</td>\n",
       "      <td>2017-12-31 23:00:00</td>\n",
       "    </tr>\n",
       "    <tr>\n",
       "      <td>8432398</td>\n",
       "      <td>-12.04</td>\n",
       "      <td>0.59</td>\n",
       "      <td>-8.92</td>\n",
       "      <td>2017-12-31 23:00:00-05:00</td>\n",
       "      <td>5.59</td>\n",
       "      <td>2017-12-31 23:00:00</td>\n",
       "      <td>2017-12-31 23:55:19</td>\n",
       "      <td>00:06:33</td>\n",
       "      <td>2018-01-01 00:01:52</td>\n",
       "      <td>31209</td>\n",
       "      <td>1st &amp; N St  SE</td>\n",
       "      <td>31609</td>\n",
       "      <td>Maine Ave &amp; 7th St SW</td>\n",
       "      <td>W20144</td>\n",
       "      <td>Member</td>\n",
       "      <td>2017-12-31 23:00:00</td>\n",
       "    </tr>\n",
       "    <tr>\n",
       "      <td>8432399</td>\n",
       "      <td>-12.04</td>\n",
       "      <td>0.59</td>\n",
       "      <td>-8.92</td>\n",
       "      <td>2017-12-31 23:00:00-05:00</td>\n",
       "      <td>5.59</td>\n",
       "      <td>2017-12-31 23:00:00</td>\n",
       "      <td>2017-12-31 23:57:42</td>\n",
       "      <td>00:21:59</td>\n",
       "      <td>2018-01-01 00:19:42</td>\n",
       "      <td>31102</td>\n",
       "      <td>11th &amp; Kenyon St NW</td>\n",
       "      <td>31102</td>\n",
       "      <td>11th &amp; Kenyon St NW</td>\n",
       "      <td>W20860</td>\n",
       "      <td>Member</td>\n",
       "      <td>2017-12-31 23:00:00</td>\n",
       "    </tr>\n",
       "    <tr>\n",
       "      <td>8432400</td>\n",
       "      <td>-12.04</td>\n",
       "      <td>0.59</td>\n",
       "      <td>-8.92</td>\n",
       "      <td>2017-12-31 23:00:00-05:00</td>\n",
       "      <td>5.59</td>\n",
       "      <td>2017-12-31 23:00:00</td>\n",
       "      <td>2017-12-31 23:58:21</td>\n",
       "      <td>00:04:26</td>\n",
       "      <td>2018-01-01 00:02:48</td>\n",
       "      <td>31229</td>\n",
       "      <td>New Hampshire Ave &amp; T St NW</td>\n",
       "      <td>31119</td>\n",
       "      <td>14th &amp; Belmont St NW</td>\n",
       "      <td>W01459</td>\n",
       "      <td>Member</td>\n",
       "      <td>2017-12-31 23:00:00</td>\n",
       "    </tr>\n",
       "  </tbody>\n",
       "</table>\n",
       "<p>8432401 rows × 16 columns</p>\n",
       "</div>"
      ],
      "text/plain": [
       "         atemperatue  humidity  temperature                 datetime_x  \\\n",
       "0              12.43      0.65        12.43  2017-10-01 00:00:00-04:00   \n",
       "1              12.43      0.65        12.43  2017-10-01 00:00:00-04:00   \n",
       "2              12.43      0.65        12.43  2017-10-01 00:00:00-04:00   \n",
       "3              12.43      0.65        12.43  2017-10-01 00:00:00-04:00   \n",
       "4              12.43      0.65        12.43  2017-10-01 00:00:00-04:00   \n",
       "...              ...       ...          ...                        ...   \n",
       "8432396       -12.04      0.59        -8.92  2017-12-31 23:00:00-05:00   \n",
       "8432397       -12.04      0.59        -8.92  2017-12-31 23:00:00-05:00   \n",
       "8432398       -12.04      0.59        -8.92  2017-12-31 23:00:00-05:00   \n",
       "8432399       -12.04      0.59        -8.92  2017-12-31 23:00:00-05:00   \n",
       "8432400       -12.04      0.59        -8.92  2017-12-31 23:00:00-05:00   \n",
       "\n",
       "         windSpeed        datetimelocal          Start date Duration  \\\n",
       "0             4.28  2017-10-01 00:00:00 2017-10-01 00:00:02 00:03:17   \n",
       "1             4.28  2017-10-01 00:00:00 2017-10-01 00:00:23 00:07:14   \n",
       "2             4.28  2017-10-01 00:00:00 2017-10-01 00:00:56 00:15:55   \n",
       "3             4.28  2017-10-01 00:00:00 2017-10-01 00:00:56 00:07:41   \n",
       "4             4.28  2017-10-01 00:00:00 2017-10-01 00:00:59 00:55:57   \n",
       "...            ...                  ...                 ...      ...   \n",
       "8432396       5.59  2017-12-31 23:00:00 2017-12-31 23:43:17 00:04:37   \n",
       "8432397       5.59  2017-12-31 23:00:00 2017-12-31 23:51:55 00:06:39   \n",
       "8432398       5.59  2017-12-31 23:00:00 2017-12-31 23:55:19 00:06:33   \n",
       "8432399       5.59  2017-12-31 23:00:00 2017-12-31 23:57:42 00:21:59   \n",
       "8432400       5.59  2017-12-31 23:00:00 2017-12-31 23:58:21 00:04:26   \n",
       "\n",
       "                    End date  Start station number  \\\n",
       "0        2017-10-01 00:03:19                 31214   \n",
       "1        2017-10-01 00:07:38                 31104   \n",
       "2        2017-10-01 00:16:52                 31221   \n",
       "3        2017-10-01 00:08:37                 31111   \n",
       "4        2017-10-01 00:56:56                 31260   \n",
       "...                      ...                   ...   \n",
       "8432396  2017-12-31 23:47:54                 31109   \n",
       "8432397  2017-12-31 23:58:35                 31125   \n",
       "8432398  2018-01-01 00:01:52                 31209   \n",
       "8432399  2018-01-01 00:19:42                 31102   \n",
       "8432400  2018-01-01 00:02:48                 31229   \n",
       "\n",
       "                       Start station  End station number  \\\n",
       "0              17th & Corcoran St NW               31229   \n",
       "1        Adams Mill & Columbia Rd NW               31602   \n",
       "2                     18th & M St NW               31103   \n",
       "3                     10th & U St NW               31102   \n",
       "4                    23rd & E St NW                31260   \n",
       "...                              ...                 ...   \n",
       "8432396                7th & T St NW               31118   \n",
       "8432397               15th & W St NW               31110   \n",
       "8432398               1st & N St  SE               31609   \n",
       "8432399          11th & Kenyon St NW               31102   \n",
       "8432400  New Hampshire Ave & T St NW               31119   \n",
       "\n",
       "                         End station Bike number Member type  \\\n",
       "0        New Hampshire Ave & T St NW      W21022      Member   \n",
       "1            Park Rd & Holmead Pl NW      W00470      Member   \n",
       "2               16th & Harvard St NW      W20206      Member   \n",
       "3                11th & Kenyon St NW      W21014      Member   \n",
       "4                    23rd & E St NW       W22349      Casual   \n",
       "...                              ...         ...         ...   \n",
       "8432396              3rd & Elm St NW      W21036      Member   \n",
       "8432397     20th St & Florida Ave NW      W23147      Casual   \n",
       "8432398        Maine Ave & 7th St SW      W20144      Member   \n",
       "8432399          11th & Kenyon St NW      W20860      Member   \n",
       "8432400         14th & Belmont St NW      W01459      Member   \n",
       "\n",
       "                 datetime_y  \n",
       "0       2017-10-01 00:00:00  \n",
       "1       2017-10-01 00:00:00  \n",
       "2       2017-10-01 00:00:00  \n",
       "3       2017-10-01 00:00:00  \n",
       "4       2017-10-01 00:00:00  \n",
       "...                     ...  \n",
       "8432396 2017-12-31 23:00:00  \n",
       "8432397 2017-12-31 23:00:00  \n",
       "8432398 2017-12-31 23:00:00  \n",
       "8432399 2017-12-31 23:00:00  \n",
       "8432400 2017-12-31 23:00:00  \n",
       "\n",
       "[8432401 rows x 16 columns]"
      ]
     },
     "execution_count": 85,
     "metadata": {},
     "output_type": "execute_result"
    }
   ],
   "source": [
    "result_Q4"
   ]
  },
  {
   "cell_type": "code",
   "execution_count": 88,
   "metadata": {},
   "outputs": [],
   "source": [
    "resultQ1_B = result_Q1.set_index('datetime_y')"
   ]
  },
  {
   "cell_type": "code",
   "execution_count": 89,
   "metadata": {},
   "outputs": [],
   "source": [
    "resultQ2_B = result_Q2.set_index('datetime_y')"
   ]
  },
  {
   "cell_type": "code",
   "execution_count": 90,
   "metadata": {},
   "outputs": [],
   "source": [
    "resultQ3_B = result_Q3.set_index('datetime_y')"
   ]
  },
  {
   "cell_type": "code",
   "execution_count": 91,
   "metadata": {},
   "outputs": [],
   "source": [
    "resultQ4_B = result_Q4.set_index('datetime_y')"
   ]
  },
  {
   "cell_type": "code",
   "execution_count": 92,
   "metadata": {},
   "outputs": [],
   "source": [
    "result_allQs = pd.concat([resultQ1_B, resultQ2_B, resultQ3_B, resultQ4_B])"
   ]
  },
  {
   "cell_type": "code",
   "execution_count": 96,
   "metadata": {},
   "outputs": [
    {
     "data": {
      "text/html": [
       "<div>\n",
       "<style scoped>\n",
       "    .dataframe tbody tr th:only-of-type {\n",
       "        vertical-align: middle;\n",
       "    }\n",
       "\n",
       "    .dataframe tbody tr th {\n",
       "        vertical-align: top;\n",
       "    }\n",
       "\n",
       "    .dataframe thead th {\n",
       "        text-align: right;\n",
       "    }\n",
       "</style>\n",
       "<table border=\"1\" class=\"dataframe\">\n",
       "  <thead>\n",
       "    <tr style=\"text-align: right;\">\n",
       "      <th></th>\n",
       "      <th>atemperatue</th>\n",
       "      <th>humidity</th>\n",
       "      <th>temperature</th>\n",
       "      <th>datetime_x</th>\n",
       "      <th>windSpeed</th>\n",
       "      <th>datetimelocal</th>\n",
       "      <th>Start date</th>\n",
       "      <th>Duration</th>\n",
       "      <th>End date</th>\n",
       "      <th>Start station number</th>\n",
       "      <th>Start station</th>\n",
       "      <th>End station number</th>\n",
       "      <th>End station</th>\n",
       "      <th>Bike number</th>\n",
       "      <th>Member type</th>\n",
       "    </tr>\n",
       "    <tr>\n",
       "      <th>datetime_y</th>\n",
       "      <th></th>\n",
       "      <th></th>\n",
       "      <th></th>\n",
       "      <th></th>\n",
       "      <th></th>\n",
       "      <th></th>\n",
       "      <th></th>\n",
       "      <th></th>\n",
       "      <th></th>\n",
       "      <th></th>\n",
       "      <th></th>\n",
       "      <th></th>\n",
       "      <th></th>\n",
       "      <th></th>\n",
       "      <th></th>\n",
       "    </tr>\n",
       "  </thead>\n",
       "  <tbody>\n",
       "    <tr>\n",
       "      <td>2017-01-01 00:00:00</td>\n",
       "      <td>5.62</td>\n",
       "      <td>0.40</td>\n",
       "      <td>7.32</td>\n",
       "      <td>2017-01-01 00:00:00-05:00</td>\n",
       "      <td>9.12</td>\n",
       "      <td>2017-01-01 00:00:00</td>\n",
       "      <td>2017-01-01 00:00:41</td>\n",
       "      <td>00:03:41</td>\n",
       "      <td>2017-01-01 00:04:23</td>\n",
       "      <td>31634</td>\n",
       "      <td>3rd &amp; Tingey St SE</td>\n",
       "      <td>31208</td>\n",
       "      <td>M St &amp; New Jersey Ave SE</td>\n",
       "      <td>W00869</td>\n",
       "      <td>Member</td>\n",
       "    </tr>\n",
       "    <tr>\n",
       "      <td>2017-01-01 00:00:00</td>\n",
       "      <td>5.62</td>\n",
       "      <td>0.40</td>\n",
       "      <td>7.32</td>\n",
       "      <td>2017-01-01 00:00:00-05:00</td>\n",
       "      <td>9.12</td>\n",
       "      <td>2017-01-01 00:00:00</td>\n",
       "      <td>2017-01-01 00:06:53</td>\n",
       "      <td>00:27:56</td>\n",
       "      <td>2017-01-01 00:34:49</td>\n",
       "      <td>31258</td>\n",
       "      <td>Lincoln Memorial</td>\n",
       "      <td>31270</td>\n",
       "      <td>8th &amp; D St NW</td>\n",
       "      <td>W00894</td>\n",
       "      <td>Casual</td>\n",
       "    </tr>\n",
       "    <tr>\n",
       "      <td>2017-01-01 00:00:00</td>\n",
       "      <td>5.62</td>\n",
       "      <td>0.40</td>\n",
       "      <td>7.32</td>\n",
       "      <td>2017-01-01 00:00:00-05:00</td>\n",
       "      <td>9.12</td>\n",
       "      <td>2017-01-01 00:00:00</td>\n",
       "      <td>2017-01-01 00:07:10</td>\n",
       "      <td>00:22:36</td>\n",
       "      <td>2017-01-01 00:29:47</td>\n",
       "      <td>31289</td>\n",
       "      <td>Henry Bacon Dr &amp; Lincoln Memorial Circle NW</td>\n",
       "      <td>31222</td>\n",
       "      <td>New York Ave &amp; 15th St NW</td>\n",
       "      <td>W21945</td>\n",
       "      <td>Casual</td>\n",
       "    </tr>\n",
       "    <tr>\n",
       "      <td>2017-01-01 00:00:00</td>\n",
       "      <td>5.62</td>\n",
       "      <td>0.40</td>\n",
       "      <td>7.32</td>\n",
       "      <td>2017-01-01 00:00:00-05:00</td>\n",
       "      <td>9.12</td>\n",
       "      <td>2017-01-01 00:00:00</td>\n",
       "      <td>2017-01-01 00:07:22</td>\n",
       "      <td>00:22:07</td>\n",
       "      <td>2017-01-01 00:29:30</td>\n",
       "      <td>31289</td>\n",
       "      <td>Henry Bacon Dr &amp; Lincoln Memorial Circle NW</td>\n",
       "      <td>31222</td>\n",
       "      <td>New York Ave &amp; 15th St NW</td>\n",
       "      <td>W20012</td>\n",
       "      <td>Casual</td>\n",
       "    </tr>\n",
       "    <tr>\n",
       "      <td>2017-01-01 00:00:00</td>\n",
       "      <td>5.62</td>\n",
       "      <td>0.40</td>\n",
       "      <td>7.32</td>\n",
       "      <td>2017-01-01 00:00:00-05:00</td>\n",
       "      <td>9.12</td>\n",
       "      <td>2017-01-01 00:00:00</td>\n",
       "      <td>2017-01-01 00:07:36</td>\n",
       "      <td>00:27:16</td>\n",
       "      <td>2017-01-01 00:34:52</td>\n",
       "      <td>31258</td>\n",
       "      <td>Lincoln Memorial</td>\n",
       "      <td>31270</td>\n",
       "      <td>8th &amp; D St NW</td>\n",
       "      <td>W22786</td>\n",
       "      <td>Casual</td>\n",
       "    </tr>\n",
       "    <tr>\n",
       "      <td>...</td>\n",
       "      <td>...</td>\n",
       "      <td>...</td>\n",
       "      <td>...</td>\n",
       "      <td>...</td>\n",
       "      <td>...</td>\n",
       "      <td>...</td>\n",
       "      <td>...</td>\n",
       "      <td>...</td>\n",
       "      <td>...</td>\n",
       "      <td>...</td>\n",
       "      <td>...</td>\n",
       "      <td>...</td>\n",
       "      <td>...</td>\n",
       "      <td>...</td>\n",
       "      <td>...</td>\n",
       "    </tr>\n",
       "    <tr>\n",
       "      <td>2017-12-31 23:00:00</td>\n",
       "      <td>-12.04</td>\n",
       "      <td>0.59</td>\n",
       "      <td>-8.92</td>\n",
       "      <td>2017-12-31 23:00:00-05:00</td>\n",
       "      <td>5.59</td>\n",
       "      <td>2017-12-31 23:00:00</td>\n",
       "      <td>2017-12-31 23:43:17</td>\n",
       "      <td>00:04:37</td>\n",
       "      <td>2017-12-31 23:47:54</td>\n",
       "      <td>31109</td>\n",
       "      <td>7th &amp; T St NW</td>\n",
       "      <td>31118</td>\n",
       "      <td>3rd &amp; Elm St NW</td>\n",
       "      <td>W21036</td>\n",
       "      <td>Member</td>\n",
       "    </tr>\n",
       "    <tr>\n",
       "      <td>2017-12-31 23:00:00</td>\n",
       "      <td>-12.04</td>\n",
       "      <td>0.59</td>\n",
       "      <td>-8.92</td>\n",
       "      <td>2017-12-31 23:00:00-05:00</td>\n",
       "      <td>5.59</td>\n",
       "      <td>2017-12-31 23:00:00</td>\n",
       "      <td>2017-12-31 23:51:55</td>\n",
       "      <td>00:06:39</td>\n",
       "      <td>2017-12-31 23:58:35</td>\n",
       "      <td>31125</td>\n",
       "      <td>15th &amp; W St NW</td>\n",
       "      <td>31110</td>\n",
       "      <td>20th St &amp; Florida Ave NW</td>\n",
       "      <td>W23147</td>\n",
       "      <td>Casual</td>\n",
       "    </tr>\n",
       "    <tr>\n",
       "      <td>2017-12-31 23:00:00</td>\n",
       "      <td>-12.04</td>\n",
       "      <td>0.59</td>\n",
       "      <td>-8.92</td>\n",
       "      <td>2017-12-31 23:00:00-05:00</td>\n",
       "      <td>5.59</td>\n",
       "      <td>2017-12-31 23:00:00</td>\n",
       "      <td>2017-12-31 23:55:19</td>\n",
       "      <td>00:06:33</td>\n",
       "      <td>2018-01-01 00:01:52</td>\n",
       "      <td>31209</td>\n",
       "      <td>1st &amp; N St  SE</td>\n",
       "      <td>31609</td>\n",
       "      <td>Maine Ave &amp; 7th St SW</td>\n",
       "      <td>W20144</td>\n",
       "      <td>Member</td>\n",
       "    </tr>\n",
       "    <tr>\n",
       "      <td>2017-12-31 23:00:00</td>\n",
       "      <td>-12.04</td>\n",
       "      <td>0.59</td>\n",
       "      <td>-8.92</td>\n",
       "      <td>2017-12-31 23:00:00-05:00</td>\n",
       "      <td>5.59</td>\n",
       "      <td>2017-12-31 23:00:00</td>\n",
       "      <td>2017-12-31 23:57:42</td>\n",
       "      <td>00:21:59</td>\n",
       "      <td>2018-01-01 00:19:42</td>\n",
       "      <td>31102</td>\n",
       "      <td>11th &amp; Kenyon St NW</td>\n",
       "      <td>31102</td>\n",
       "      <td>11th &amp; Kenyon St NW</td>\n",
       "      <td>W20860</td>\n",
       "      <td>Member</td>\n",
       "    </tr>\n",
       "    <tr>\n",
       "      <td>2017-12-31 23:00:00</td>\n",
       "      <td>-12.04</td>\n",
       "      <td>0.59</td>\n",
       "      <td>-8.92</td>\n",
       "      <td>2017-12-31 23:00:00-05:00</td>\n",
       "      <td>5.59</td>\n",
       "      <td>2017-12-31 23:00:00</td>\n",
       "      <td>2017-12-31 23:58:21</td>\n",
       "      <td>00:04:26</td>\n",
       "      <td>2018-01-01 00:02:48</td>\n",
       "      <td>31229</td>\n",
       "      <td>New Hampshire Ave &amp; T St NW</td>\n",
       "      <td>31119</td>\n",
       "      <td>14th &amp; Belmont St NW</td>\n",
       "      <td>W01459</td>\n",
       "      <td>Member</td>\n",
       "    </tr>\n",
       "  </tbody>\n",
       "</table>\n",
       "<p>27918955 rows × 15 columns</p>\n",
       "</div>"
      ],
      "text/plain": [
       "                     atemperatue  humidity  temperature  \\\n",
       "datetime_y                                                \n",
       "2017-01-01 00:00:00         5.62      0.40         7.32   \n",
       "2017-01-01 00:00:00         5.62      0.40         7.32   \n",
       "2017-01-01 00:00:00         5.62      0.40         7.32   \n",
       "2017-01-01 00:00:00         5.62      0.40         7.32   \n",
       "2017-01-01 00:00:00         5.62      0.40         7.32   \n",
       "...                          ...       ...          ...   \n",
       "2017-12-31 23:00:00       -12.04      0.59        -8.92   \n",
       "2017-12-31 23:00:00       -12.04      0.59        -8.92   \n",
       "2017-12-31 23:00:00       -12.04      0.59        -8.92   \n",
       "2017-12-31 23:00:00       -12.04      0.59        -8.92   \n",
       "2017-12-31 23:00:00       -12.04      0.59        -8.92   \n",
       "\n",
       "                                    datetime_x  windSpeed  \\\n",
       "datetime_y                                                  \n",
       "2017-01-01 00:00:00  2017-01-01 00:00:00-05:00       9.12   \n",
       "2017-01-01 00:00:00  2017-01-01 00:00:00-05:00       9.12   \n",
       "2017-01-01 00:00:00  2017-01-01 00:00:00-05:00       9.12   \n",
       "2017-01-01 00:00:00  2017-01-01 00:00:00-05:00       9.12   \n",
       "2017-01-01 00:00:00  2017-01-01 00:00:00-05:00       9.12   \n",
       "...                                        ...        ...   \n",
       "2017-12-31 23:00:00  2017-12-31 23:00:00-05:00       5.59   \n",
       "2017-12-31 23:00:00  2017-12-31 23:00:00-05:00       5.59   \n",
       "2017-12-31 23:00:00  2017-12-31 23:00:00-05:00       5.59   \n",
       "2017-12-31 23:00:00  2017-12-31 23:00:00-05:00       5.59   \n",
       "2017-12-31 23:00:00  2017-12-31 23:00:00-05:00       5.59   \n",
       "\n",
       "                           datetimelocal          Start date Duration  \\\n",
       "datetime_y                                                              \n",
       "2017-01-01 00:00:00  2017-01-01 00:00:00 2017-01-01 00:00:41 00:03:41   \n",
       "2017-01-01 00:00:00  2017-01-01 00:00:00 2017-01-01 00:06:53 00:27:56   \n",
       "2017-01-01 00:00:00  2017-01-01 00:00:00 2017-01-01 00:07:10 00:22:36   \n",
       "2017-01-01 00:00:00  2017-01-01 00:00:00 2017-01-01 00:07:22 00:22:07   \n",
       "2017-01-01 00:00:00  2017-01-01 00:00:00 2017-01-01 00:07:36 00:27:16   \n",
       "...                                  ...                 ...      ...   \n",
       "2017-12-31 23:00:00  2017-12-31 23:00:00 2017-12-31 23:43:17 00:04:37   \n",
       "2017-12-31 23:00:00  2017-12-31 23:00:00 2017-12-31 23:51:55 00:06:39   \n",
       "2017-12-31 23:00:00  2017-12-31 23:00:00 2017-12-31 23:55:19 00:06:33   \n",
       "2017-12-31 23:00:00  2017-12-31 23:00:00 2017-12-31 23:57:42 00:21:59   \n",
       "2017-12-31 23:00:00  2017-12-31 23:00:00 2017-12-31 23:58:21 00:04:26   \n",
       "\n",
       "                                End date  Start station number  \\\n",
       "datetime_y                                                       \n",
       "2017-01-01 00:00:00  2017-01-01 00:04:23                 31634   \n",
       "2017-01-01 00:00:00  2017-01-01 00:34:49                 31258   \n",
       "2017-01-01 00:00:00  2017-01-01 00:29:47                 31289   \n",
       "2017-01-01 00:00:00  2017-01-01 00:29:30                 31289   \n",
       "2017-01-01 00:00:00  2017-01-01 00:34:52                 31258   \n",
       "...                                  ...                   ...   \n",
       "2017-12-31 23:00:00  2017-12-31 23:47:54                 31109   \n",
       "2017-12-31 23:00:00  2017-12-31 23:58:35                 31125   \n",
       "2017-12-31 23:00:00  2018-01-01 00:01:52                 31209   \n",
       "2017-12-31 23:00:00  2018-01-01 00:19:42                 31102   \n",
       "2017-12-31 23:00:00  2018-01-01 00:02:48                 31229   \n",
       "\n",
       "                                                   Start station  \\\n",
       "datetime_y                                                         \n",
       "2017-01-01 00:00:00                           3rd & Tingey St SE   \n",
       "2017-01-01 00:00:00                             Lincoln Memorial   \n",
       "2017-01-01 00:00:00  Henry Bacon Dr & Lincoln Memorial Circle NW   \n",
       "2017-01-01 00:00:00  Henry Bacon Dr & Lincoln Memorial Circle NW   \n",
       "2017-01-01 00:00:00                             Lincoln Memorial   \n",
       "...                                                          ...   \n",
       "2017-12-31 23:00:00                                7th & T St NW   \n",
       "2017-12-31 23:00:00                               15th & W St NW   \n",
       "2017-12-31 23:00:00                               1st & N St  SE   \n",
       "2017-12-31 23:00:00                          11th & Kenyon St NW   \n",
       "2017-12-31 23:00:00                  New Hampshire Ave & T St NW   \n",
       "\n",
       "                     End station number                End station  \\\n",
       "datetime_y                                                           \n",
       "2017-01-01 00:00:00               31208   M St & New Jersey Ave SE   \n",
       "2017-01-01 00:00:00               31270              8th & D St NW   \n",
       "2017-01-01 00:00:00               31222  New York Ave & 15th St NW   \n",
       "2017-01-01 00:00:00               31222  New York Ave & 15th St NW   \n",
       "2017-01-01 00:00:00               31270              8th & D St NW   \n",
       "...                                 ...                        ...   \n",
       "2017-12-31 23:00:00               31118            3rd & Elm St NW   \n",
       "2017-12-31 23:00:00               31110   20th St & Florida Ave NW   \n",
       "2017-12-31 23:00:00               31609      Maine Ave & 7th St SW   \n",
       "2017-12-31 23:00:00               31102        11th & Kenyon St NW   \n",
       "2017-12-31 23:00:00               31119       14th & Belmont St NW   \n",
       "\n",
       "                    Bike number Member type  \n",
       "datetime_y                                   \n",
       "2017-01-01 00:00:00      W00869      Member  \n",
       "2017-01-01 00:00:00      W00894      Casual  \n",
       "2017-01-01 00:00:00      W21945      Casual  \n",
       "2017-01-01 00:00:00      W20012      Casual  \n",
       "2017-01-01 00:00:00      W22786      Casual  \n",
       "...                         ...         ...  \n",
       "2017-12-31 23:00:00      W21036      Member  \n",
       "2017-12-31 23:00:00      W23147      Casual  \n",
       "2017-12-31 23:00:00      W20144      Member  \n",
       "2017-12-31 23:00:00      W20860      Member  \n",
       "2017-12-31 23:00:00      W01459      Member  \n",
       "\n",
       "[27918955 rows x 15 columns]"
      ]
     },
     "execution_count": 96,
     "metadata": {},
     "output_type": "execute_result"
    }
   ],
   "source": [
    "result_allQs"
   ]
  },
  {
   "cell_type": "code",
   "execution_count": 97,
   "metadata": {},
   "outputs": [],
   "source": [
    "#result_allQs.to_csv('result_allQs1.csv', index=False)"
   ]
  },
  {
   "cell_type": "code",
   "execution_count": 116,
   "metadata": {},
   "outputs": [],
   "source": [
    "import requests\n",
    "url = 'https://gbfs.capitalbikeshare.com/gbfs/en/station_information.json'\n",
    "response = requests.get(url)\n",
    "stations = pd.DataFrame(response.json()['data']['stations'])"
   ]
  },
  {
   "cell_type": "code",
   "execution_count": 128,
   "metadata": {},
   "outputs": [],
   "source": [
    "stations_2 = stations"
   ]
  },
  {
   "cell_type": "code",
   "execution_count": 129,
   "metadata": {},
   "outputs": [
    {
     "data": {
      "text/html": [
       "<div>\n",
       "<style scoped>\n",
       "    .dataframe tbody tr th:only-of-type {\n",
       "        vertical-align: middle;\n",
       "    }\n",
       "\n",
       "    .dataframe tbody tr th {\n",
       "        vertical-align: top;\n",
       "    }\n",
       "\n",
       "    .dataframe thead th {\n",
       "        text-align: right;\n",
       "    }\n",
       "</style>\n",
       "<table border=\"1\" class=\"dataframe\">\n",
       "  <thead>\n",
       "    <tr style=\"text-align: right;\">\n",
       "      <th></th>\n",
       "      <th>station_id</th>\n",
       "      <th>external_id</th>\n",
       "      <th>name</th>\n",
       "      <th>short_name</th>\n",
       "      <th>lat</th>\n",
       "      <th>lon</th>\n",
       "      <th>region_id</th>\n",
       "      <th>rental_methods</th>\n",
       "      <th>capacity</th>\n",
       "      <th>electric_bike_surcharge_waiver</th>\n",
       "      <th>eightd_has_key_dispenser</th>\n",
       "      <th>has_kiosk</th>\n",
       "      <th>Start station number</th>\n",
       "    </tr>\n",
       "  </thead>\n",
       "  <tbody>\n",
       "    <tr>\n",
       "      <td>0</td>\n",
       "      <td>1</td>\n",
       "      <td>082469cc-1f3f-11e7-bf6b-3863bb334450</td>\n",
       "      <td>Eads St &amp; 15th St S</td>\n",
       "      <td>31000</td>\n",
       "      <td>38.858971</td>\n",
       "      <td>-77.053230</td>\n",
       "      <td>41</td>\n",
       "      <td>[CREDITCARD, KEY]</td>\n",
       "      <td>15</td>\n",
       "      <td>False</td>\n",
       "      <td>False</td>\n",
       "      <td>True</td>\n",
       "      <td>31000</td>\n",
       "    </tr>\n",
       "    <tr>\n",
       "      <td>1</td>\n",
       "      <td>2</td>\n",
       "      <td>08246b69-1f3f-11e7-bf6b-3863bb334450</td>\n",
       "      <td>18th St &amp; S Eads St</td>\n",
       "      <td>31001</td>\n",
       "      <td>38.857250</td>\n",
       "      <td>-77.053320</td>\n",
       "      <td>41</td>\n",
       "      <td>[CREDITCARD, KEY]</td>\n",
       "      <td>11</td>\n",
       "      <td>False</td>\n",
       "      <td>False</td>\n",
       "      <td>True</td>\n",
       "      <td>31001</td>\n",
       "    </tr>\n",
       "    <tr>\n",
       "      <td>2</td>\n",
       "      <td>3</td>\n",
       "      <td>08246c35-1f3f-11e7-bf6b-3863bb334450</td>\n",
       "      <td>Crystal Dr &amp; 20th St S</td>\n",
       "      <td>31002</td>\n",
       "      <td>38.856425</td>\n",
       "      <td>-77.049232</td>\n",
       "      <td>41</td>\n",
       "      <td>[CREDITCARD, KEY]</td>\n",
       "      <td>17</td>\n",
       "      <td>False</td>\n",
       "      <td>False</td>\n",
       "      <td>True</td>\n",
       "      <td>31002</td>\n",
       "    </tr>\n",
       "    <tr>\n",
       "      <td>3</td>\n",
       "      <td>4</td>\n",
       "      <td>08246cd5-1f3f-11e7-bf6b-3863bb334450</td>\n",
       "      <td>Crystal Dr &amp; 15th St S</td>\n",
       "      <td>31003</td>\n",
       "      <td>38.860170</td>\n",
       "      <td>-77.049593</td>\n",
       "      <td>41</td>\n",
       "      <td>[CREDITCARD, KEY]</td>\n",
       "      <td>11</td>\n",
       "      <td>False</td>\n",
       "      <td>False</td>\n",
       "      <td>True</td>\n",
       "      <td>31003</td>\n",
       "    </tr>\n",
       "    <tr>\n",
       "      <td>4</td>\n",
       "      <td>5</td>\n",
       "      <td>08246d68-1f3f-11e7-bf6b-3863bb334450</td>\n",
       "      <td>Aurora Hills Cmty Ctr / 18th St &amp; S Hayes St</td>\n",
       "      <td>31004</td>\n",
       "      <td>38.857866</td>\n",
       "      <td>-77.059490</td>\n",
       "      <td>41</td>\n",
       "      <td>[CREDITCARD, KEY]</td>\n",
       "      <td>11</td>\n",
       "      <td>False</td>\n",
       "      <td>False</td>\n",
       "      <td>True</td>\n",
       "      <td>31004</td>\n",
       "    </tr>\n",
       "    <tr>\n",
       "      <td>...</td>\n",
       "      <td>...</td>\n",
       "      <td>...</td>\n",
       "      <td>...</td>\n",
       "      <td>...</td>\n",
       "      <td>...</td>\n",
       "      <td>...</td>\n",
       "      <td>...</td>\n",
       "      <td>...</td>\n",
       "      <td>...</td>\n",
       "      <td>...</td>\n",
       "      <td>...</td>\n",
       "      <td>...</td>\n",
       "      <td>...</td>\n",
       "    </tr>\n",
       "    <tr>\n",
       "      <td>574</td>\n",
       "      <td>605</td>\n",
       "      <td>0cabc1c7-cf6f-4afd-9242-c011b77f6330</td>\n",
       "      <td>Valley Ave &amp; Wheeler Rd SE</td>\n",
       "      <td>31824</td>\n",
       "      <td>38.836646</td>\n",
       "      <td>-76.993589</td>\n",
       "      <td>42</td>\n",
       "      <td>[CREDITCARD, KEY]</td>\n",
       "      <td>19</td>\n",
       "      <td>False</td>\n",
       "      <td>False</td>\n",
       "      <td>True</td>\n",
       "      <td>31824</td>\n",
       "    </tr>\n",
       "    <tr>\n",
       "      <td>575</td>\n",
       "      <td>606</td>\n",
       "      <td>db81ad06-aad3-4e23-b2b9-05b39b41f8fc</td>\n",
       "      <td>Ridge Rd Community Center</td>\n",
       "      <td>31718</td>\n",
       "      <td>38.876227</td>\n",
       "      <td>-76.940981</td>\n",
       "      <td>42</td>\n",
       "      <td>[CREDITCARD, KEY]</td>\n",
       "      <td>19</td>\n",
       "      <td>False</td>\n",
       "      <td>False</td>\n",
       "      <td>True</td>\n",
       "      <td>31718</td>\n",
       "    </tr>\n",
       "    <tr>\n",
       "      <td>576</td>\n",
       "      <td>607</td>\n",
       "      <td>7641069c-42a6-4e3e-9769-7df51da6978d</td>\n",
       "      <td>Fort Stanton Rec Center</td>\n",
       "      <td>31825</td>\n",
       "      <td>38.857369</td>\n",
       "      <td>-76.977688</td>\n",
       "      <td>42</td>\n",
       "      <td>[CREDITCARD, KEY]</td>\n",
       "      <td>19</td>\n",
       "      <td>False</td>\n",
       "      <td>False</td>\n",
       "      <td>True</td>\n",
       "      <td>31825</td>\n",
       "    </tr>\n",
       "    <tr>\n",
       "      <td>577</td>\n",
       "      <td>608</td>\n",
       "      <td>7a19d0e7-2b3c-4805-b843-1aec84a05bfe</td>\n",
       "      <td>Reservoir Rd &amp; 38th St NW</td>\n",
       "      <td>31325</td>\n",
       "      <td>38.912614</td>\n",
       "      <td>-77.074323</td>\n",
       "      <td>42</td>\n",
       "      <td>[CREDITCARD, KEY]</td>\n",
       "      <td>19</td>\n",
       "      <td>False</td>\n",
       "      <td>False</td>\n",
       "      <td>True</td>\n",
       "      <td>31325</td>\n",
       "    </tr>\n",
       "    <tr>\n",
       "      <td>578</td>\n",
       "      <td>609</td>\n",
       "      <td>d325a449-32d7-488d-b746-9455ad003834</td>\n",
       "      <td>22nd &amp; H St NW</td>\n",
       "      <td>31127</td>\n",
       "      <td>38.898925</td>\n",
       "      <td>-77.048852</td>\n",
       "      <td>42</td>\n",
       "      <td>[CREDITCARD, KEY]</td>\n",
       "      <td>17</td>\n",
       "      <td>False</td>\n",
       "      <td>False</td>\n",
       "      <td>True</td>\n",
       "      <td>31127</td>\n",
       "    </tr>\n",
       "  </tbody>\n",
       "</table>\n",
       "<p>579 rows × 13 columns</p>\n",
       "</div>"
      ],
      "text/plain": [
       "    station_id                           external_id  \\\n",
       "0            1  082469cc-1f3f-11e7-bf6b-3863bb334450   \n",
       "1            2  08246b69-1f3f-11e7-bf6b-3863bb334450   \n",
       "2            3  08246c35-1f3f-11e7-bf6b-3863bb334450   \n",
       "3            4  08246cd5-1f3f-11e7-bf6b-3863bb334450   \n",
       "4            5  08246d68-1f3f-11e7-bf6b-3863bb334450   \n",
       "..         ...                                   ...   \n",
       "574        605  0cabc1c7-cf6f-4afd-9242-c011b77f6330   \n",
       "575        606  db81ad06-aad3-4e23-b2b9-05b39b41f8fc   \n",
       "576        607  7641069c-42a6-4e3e-9769-7df51da6978d   \n",
       "577        608  7a19d0e7-2b3c-4805-b843-1aec84a05bfe   \n",
       "578        609  d325a449-32d7-488d-b746-9455ad003834   \n",
       "\n",
       "                                             name short_name        lat  \\\n",
       "0                             Eads St & 15th St S      31000  38.858971   \n",
       "1                             18th St & S Eads St      31001  38.857250   \n",
       "2                          Crystal Dr & 20th St S      31002  38.856425   \n",
       "3                          Crystal Dr & 15th St S      31003  38.860170   \n",
       "4    Aurora Hills Cmty Ctr / 18th St & S Hayes St      31004  38.857866   \n",
       "..                                            ...        ...        ...   \n",
       "574                    Valley Ave & Wheeler Rd SE      31824  38.836646   \n",
       "575                     Ridge Rd Community Center      31718  38.876227   \n",
       "576                       Fort Stanton Rec Center      31825  38.857369   \n",
       "577                     Reservoir Rd & 38th St NW      31325  38.912614   \n",
       "578                                22nd & H St NW      31127  38.898925   \n",
       "\n",
       "           lon  region_id     rental_methods  capacity  \\\n",
       "0   -77.053230         41  [CREDITCARD, KEY]        15   \n",
       "1   -77.053320         41  [CREDITCARD, KEY]        11   \n",
       "2   -77.049232         41  [CREDITCARD, KEY]        17   \n",
       "3   -77.049593         41  [CREDITCARD, KEY]        11   \n",
       "4   -77.059490         41  [CREDITCARD, KEY]        11   \n",
       "..         ...        ...                ...       ...   \n",
       "574 -76.993589         42  [CREDITCARD, KEY]        19   \n",
       "575 -76.940981         42  [CREDITCARD, KEY]        19   \n",
       "576 -76.977688         42  [CREDITCARD, KEY]        19   \n",
       "577 -77.074323         42  [CREDITCARD, KEY]        19   \n",
       "578 -77.048852         42  [CREDITCARD, KEY]        17   \n",
       "\n",
       "     electric_bike_surcharge_waiver  eightd_has_key_dispenser  has_kiosk  \\\n",
       "0                             False                     False       True   \n",
       "1                             False                     False       True   \n",
       "2                             False                     False       True   \n",
       "3                             False                     False       True   \n",
       "4                             False                     False       True   \n",
       "..                              ...                       ...        ...   \n",
       "574                           False                     False       True   \n",
       "575                           False                     False       True   \n",
       "576                           False                     False       True   \n",
       "577                           False                     False       True   \n",
       "578                           False                     False       True   \n",
       "\n",
       "    Start station number  \n",
       "0                  31000  \n",
       "1                  31001  \n",
       "2                  31002  \n",
       "3                  31003  \n",
       "4                  31004  \n",
       "..                   ...  \n",
       "574                31824  \n",
       "575                31718  \n",
       "576                31825  \n",
       "577                31325  \n",
       "578                31127  \n",
       "\n",
       "[579 rows x 13 columns]"
      ]
     },
     "execution_count": 129,
     "metadata": {},
     "output_type": "execute_result"
    }
   ],
   "source": [
    "stations_2"
   ]
  },
  {
   "cell_type": "code",
   "execution_count": 130,
   "metadata": {},
   "outputs": [],
   "source": [
    "stations_2['Start station number'] = stations_2['short_name'].astype(int)\n",
    "#stations_2.rename(columns = {'short_name':'Start station number'}, inplace = True)"
   ]
  },
  {
   "cell_type": "code",
   "execution_count": 131,
   "metadata": {},
   "outputs": [
    {
     "data": {
      "text/html": [
       "<div>\n",
       "<style scoped>\n",
       "    .dataframe tbody tr th:only-of-type {\n",
       "        vertical-align: middle;\n",
       "    }\n",
       "\n",
       "    .dataframe tbody tr th {\n",
       "        vertical-align: top;\n",
       "    }\n",
       "\n",
       "    .dataframe thead th {\n",
       "        text-align: right;\n",
       "    }\n",
       "</style>\n",
       "<table border=\"1\" class=\"dataframe\">\n",
       "  <thead>\n",
       "    <tr style=\"text-align: right;\">\n",
       "      <th></th>\n",
       "      <th>station_id</th>\n",
       "      <th>external_id</th>\n",
       "      <th>name</th>\n",
       "      <th>short_name</th>\n",
       "      <th>lat</th>\n",
       "      <th>lon</th>\n",
       "      <th>region_id</th>\n",
       "      <th>rental_methods</th>\n",
       "      <th>capacity</th>\n",
       "      <th>electric_bike_surcharge_waiver</th>\n",
       "      <th>eightd_has_key_dispenser</th>\n",
       "      <th>has_kiosk</th>\n",
       "      <th>Start station number</th>\n",
       "    </tr>\n",
       "  </thead>\n",
       "  <tbody>\n",
       "    <tr>\n",
       "      <td>0</td>\n",
       "      <td>1</td>\n",
       "      <td>082469cc-1f3f-11e7-bf6b-3863bb334450</td>\n",
       "      <td>Eads St &amp; 15th St S</td>\n",
       "      <td>31000</td>\n",
       "      <td>38.858971</td>\n",
       "      <td>-77.053230</td>\n",
       "      <td>41</td>\n",
       "      <td>[CREDITCARD, KEY]</td>\n",
       "      <td>15</td>\n",
       "      <td>False</td>\n",
       "      <td>False</td>\n",
       "      <td>True</td>\n",
       "      <td>31000</td>\n",
       "    </tr>\n",
       "    <tr>\n",
       "      <td>1</td>\n",
       "      <td>2</td>\n",
       "      <td>08246b69-1f3f-11e7-bf6b-3863bb334450</td>\n",
       "      <td>18th St &amp; S Eads St</td>\n",
       "      <td>31001</td>\n",
       "      <td>38.857250</td>\n",
       "      <td>-77.053320</td>\n",
       "      <td>41</td>\n",
       "      <td>[CREDITCARD, KEY]</td>\n",
       "      <td>11</td>\n",
       "      <td>False</td>\n",
       "      <td>False</td>\n",
       "      <td>True</td>\n",
       "      <td>31001</td>\n",
       "    </tr>\n",
       "    <tr>\n",
       "      <td>2</td>\n",
       "      <td>3</td>\n",
       "      <td>08246c35-1f3f-11e7-bf6b-3863bb334450</td>\n",
       "      <td>Crystal Dr &amp; 20th St S</td>\n",
       "      <td>31002</td>\n",
       "      <td>38.856425</td>\n",
       "      <td>-77.049232</td>\n",
       "      <td>41</td>\n",
       "      <td>[CREDITCARD, KEY]</td>\n",
       "      <td>17</td>\n",
       "      <td>False</td>\n",
       "      <td>False</td>\n",
       "      <td>True</td>\n",
       "      <td>31002</td>\n",
       "    </tr>\n",
       "    <tr>\n",
       "      <td>3</td>\n",
       "      <td>4</td>\n",
       "      <td>08246cd5-1f3f-11e7-bf6b-3863bb334450</td>\n",
       "      <td>Crystal Dr &amp; 15th St S</td>\n",
       "      <td>31003</td>\n",
       "      <td>38.860170</td>\n",
       "      <td>-77.049593</td>\n",
       "      <td>41</td>\n",
       "      <td>[CREDITCARD, KEY]</td>\n",
       "      <td>11</td>\n",
       "      <td>False</td>\n",
       "      <td>False</td>\n",
       "      <td>True</td>\n",
       "      <td>31003</td>\n",
       "    </tr>\n",
       "    <tr>\n",
       "      <td>4</td>\n",
       "      <td>5</td>\n",
       "      <td>08246d68-1f3f-11e7-bf6b-3863bb334450</td>\n",
       "      <td>Aurora Hills Cmty Ctr / 18th St &amp; S Hayes St</td>\n",
       "      <td>31004</td>\n",
       "      <td>38.857866</td>\n",
       "      <td>-77.059490</td>\n",
       "      <td>41</td>\n",
       "      <td>[CREDITCARD, KEY]</td>\n",
       "      <td>11</td>\n",
       "      <td>False</td>\n",
       "      <td>False</td>\n",
       "      <td>True</td>\n",
       "      <td>31004</td>\n",
       "    </tr>\n",
       "    <tr>\n",
       "      <td>...</td>\n",
       "      <td>...</td>\n",
       "      <td>...</td>\n",
       "      <td>...</td>\n",
       "      <td>...</td>\n",
       "      <td>...</td>\n",
       "      <td>...</td>\n",
       "      <td>...</td>\n",
       "      <td>...</td>\n",
       "      <td>...</td>\n",
       "      <td>...</td>\n",
       "      <td>...</td>\n",
       "      <td>...</td>\n",
       "      <td>...</td>\n",
       "    </tr>\n",
       "    <tr>\n",
       "      <td>574</td>\n",
       "      <td>605</td>\n",
       "      <td>0cabc1c7-cf6f-4afd-9242-c011b77f6330</td>\n",
       "      <td>Valley Ave &amp; Wheeler Rd SE</td>\n",
       "      <td>31824</td>\n",
       "      <td>38.836646</td>\n",
       "      <td>-76.993589</td>\n",
       "      <td>42</td>\n",
       "      <td>[CREDITCARD, KEY]</td>\n",
       "      <td>19</td>\n",
       "      <td>False</td>\n",
       "      <td>False</td>\n",
       "      <td>True</td>\n",
       "      <td>31824</td>\n",
       "    </tr>\n",
       "    <tr>\n",
       "      <td>575</td>\n",
       "      <td>606</td>\n",
       "      <td>db81ad06-aad3-4e23-b2b9-05b39b41f8fc</td>\n",
       "      <td>Ridge Rd Community Center</td>\n",
       "      <td>31718</td>\n",
       "      <td>38.876227</td>\n",
       "      <td>-76.940981</td>\n",
       "      <td>42</td>\n",
       "      <td>[CREDITCARD, KEY]</td>\n",
       "      <td>19</td>\n",
       "      <td>False</td>\n",
       "      <td>False</td>\n",
       "      <td>True</td>\n",
       "      <td>31718</td>\n",
       "    </tr>\n",
       "    <tr>\n",
       "      <td>576</td>\n",
       "      <td>607</td>\n",
       "      <td>7641069c-42a6-4e3e-9769-7df51da6978d</td>\n",
       "      <td>Fort Stanton Rec Center</td>\n",
       "      <td>31825</td>\n",
       "      <td>38.857369</td>\n",
       "      <td>-76.977688</td>\n",
       "      <td>42</td>\n",
       "      <td>[CREDITCARD, KEY]</td>\n",
       "      <td>19</td>\n",
       "      <td>False</td>\n",
       "      <td>False</td>\n",
       "      <td>True</td>\n",
       "      <td>31825</td>\n",
       "    </tr>\n",
       "    <tr>\n",
       "      <td>577</td>\n",
       "      <td>608</td>\n",
       "      <td>7a19d0e7-2b3c-4805-b843-1aec84a05bfe</td>\n",
       "      <td>Reservoir Rd &amp; 38th St NW</td>\n",
       "      <td>31325</td>\n",
       "      <td>38.912614</td>\n",
       "      <td>-77.074323</td>\n",
       "      <td>42</td>\n",
       "      <td>[CREDITCARD, KEY]</td>\n",
       "      <td>19</td>\n",
       "      <td>False</td>\n",
       "      <td>False</td>\n",
       "      <td>True</td>\n",
       "      <td>31325</td>\n",
       "    </tr>\n",
       "    <tr>\n",
       "      <td>578</td>\n",
       "      <td>609</td>\n",
       "      <td>d325a449-32d7-488d-b746-9455ad003834</td>\n",
       "      <td>22nd &amp; H St NW</td>\n",
       "      <td>31127</td>\n",
       "      <td>38.898925</td>\n",
       "      <td>-77.048852</td>\n",
       "      <td>42</td>\n",
       "      <td>[CREDITCARD, KEY]</td>\n",
       "      <td>17</td>\n",
       "      <td>False</td>\n",
       "      <td>False</td>\n",
       "      <td>True</td>\n",
       "      <td>31127</td>\n",
       "    </tr>\n",
       "  </tbody>\n",
       "</table>\n",
       "<p>579 rows × 13 columns</p>\n",
       "</div>"
      ],
      "text/plain": [
       "    station_id                           external_id  \\\n",
       "0            1  082469cc-1f3f-11e7-bf6b-3863bb334450   \n",
       "1            2  08246b69-1f3f-11e7-bf6b-3863bb334450   \n",
       "2            3  08246c35-1f3f-11e7-bf6b-3863bb334450   \n",
       "3            4  08246cd5-1f3f-11e7-bf6b-3863bb334450   \n",
       "4            5  08246d68-1f3f-11e7-bf6b-3863bb334450   \n",
       "..         ...                                   ...   \n",
       "574        605  0cabc1c7-cf6f-4afd-9242-c011b77f6330   \n",
       "575        606  db81ad06-aad3-4e23-b2b9-05b39b41f8fc   \n",
       "576        607  7641069c-42a6-4e3e-9769-7df51da6978d   \n",
       "577        608  7a19d0e7-2b3c-4805-b843-1aec84a05bfe   \n",
       "578        609  d325a449-32d7-488d-b746-9455ad003834   \n",
       "\n",
       "                                             name short_name        lat  \\\n",
       "0                             Eads St & 15th St S      31000  38.858971   \n",
       "1                             18th St & S Eads St      31001  38.857250   \n",
       "2                          Crystal Dr & 20th St S      31002  38.856425   \n",
       "3                          Crystal Dr & 15th St S      31003  38.860170   \n",
       "4    Aurora Hills Cmty Ctr / 18th St & S Hayes St      31004  38.857866   \n",
       "..                                            ...        ...        ...   \n",
       "574                    Valley Ave & Wheeler Rd SE      31824  38.836646   \n",
       "575                     Ridge Rd Community Center      31718  38.876227   \n",
       "576                       Fort Stanton Rec Center      31825  38.857369   \n",
       "577                     Reservoir Rd & 38th St NW      31325  38.912614   \n",
       "578                                22nd & H St NW      31127  38.898925   \n",
       "\n",
       "           lon  region_id     rental_methods  capacity  \\\n",
       "0   -77.053230         41  [CREDITCARD, KEY]        15   \n",
       "1   -77.053320         41  [CREDITCARD, KEY]        11   \n",
       "2   -77.049232         41  [CREDITCARD, KEY]        17   \n",
       "3   -77.049593         41  [CREDITCARD, KEY]        11   \n",
       "4   -77.059490         41  [CREDITCARD, KEY]        11   \n",
       "..         ...        ...                ...       ...   \n",
       "574 -76.993589         42  [CREDITCARD, KEY]        19   \n",
       "575 -76.940981         42  [CREDITCARD, KEY]        19   \n",
       "576 -76.977688         42  [CREDITCARD, KEY]        19   \n",
       "577 -77.074323         42  [CREDITCARD, KEY]        19   \n",
       "578 -77.048852         42  [CREDITCARD, KEY]        17   \n",
       "\n",
       "     electric_bike_surcharge_waiver  eightd_has_key_dispenser  has_kiosk  \\\n",
       "0                             False                     False       True   \n",
       "1                             False                     False       True   \n",
       "2                             False                     False       True   \n",
       "3                             False                     False       True   \n",
       "4                             False                     False       True   \n",
       "..                              ...                       ...        ...   \n",
       "574                           False                     False       True   \n",
       "575                           False                     False       True   \n",
       "576                           False                     False       True   \n",
       "577                           False                     False       True   \n",
       "578                           False                     False       True   \n",
       "\n",
       "     Start station number  \n",
       "0                   31000  \n",
       "1                   31001  \n",
       "2                   31002  \n",
       "3                   31003  \n",
       "4                   31004  \n",
       "..                    ...  \n",
       "574                 31824  \n",
       "575                 31718  \n",
       "576                 31825  \n",
       "577                 31325  \n",
       "578                 31127  \n",
       "\n",
       "[579 rows x 13 columns]"
      ]
     },
     "execution_count": 131,
     "metadata": {},
     "output_type": "execute_result"
    }
   ],
   "source": [
    "stations_2"
   ]
  },
  {
   "cell_type": "code",
   "execution_count": 132,
   "metadata": {},
   "outputs": [],
   "source": [
    "stations_summary = stations_2[['Start station number', 'lat', 'lon']]"
   ]
  },
  {
   "cell_type": "code",
   "execution_count": 133,
   "metadata": {},
   "outputs": [],
   "source": [
    "stations_summary=stations_summary.set_index('Start station number')"
   ]
  },
  {
   "cell_type": "code",
   "execution_count": 134,
   "metadata": {},
   "outputs": [
    {
     "data": {
      "text/html": [
       "<div>\n",
       "<style scoped>\n",
       "    .dataframe tbody tr th:only-of-type {\n",
       "        vertical-align: middle;\n",
       "    }\n",
       "\n",
       "    .dataframe tbody tr th {\n",
       "        vertical-align: top;\n",
       "    }\n",
       "\n",
       "    .dataframe thead th {\n",
       "        text-align: right;\n",
       "    }\n",
       "</style>\n",
       "<table border=\"1\" class=\"dataframe\">\n",
       "  <thead>\n",
       "    <tr style=\"text-align: right;\">\n",
       "      <th></th>\n",
       "      <th>lat</th>\n",
       "      <th>lon</th>\n",
       "    </tr>\n",
       "    <tr>\n",
       "      <th>Start station number</th>\n",
       "      <th></th>\n",
       "      <th></th>\n",
       "    </tr>\n",
       "  </thead>\n",
       "  <tbody>\n",
       "    <tr>\n",
       "      <td>31000</td>\n",
       "      <td>38.858971</td>\n",
       "      <td>-77.053230</td>\n",
       "    </tr>\n",
       "    <tr>\n",
       "      <td>31001</td>\n",
       "      <td>38.857250</td>\n",
       "      <td>-77.053320</td>\n",
       "    </tr>\n",
       "    <tr>\n",
       "      <td>31002</td>\n",
       "      <td>38.856425</td>\n",
       "      <td>-77.049232</td>\n",
       "    </tr>\n",
       "    <tr>\n",
       "      <td>31003</td>\n",
       "      <td>38.860170</td>\n",
       "      <td>-77.049593</td>\n",
       "    </tr>\n",
       "    <tr>\n",
       "      <td>31004</td>\n",
       "      <td>38.857866</td>\n",
       "      <td>-77.059490</td>\n",
       "    </tr>\n",
       "    <tr>\n",
       "      <td>...</td>\n",
       "      <td>...</td>\n",
       "      <td>...</td>\n",
       "    </tr>\n",
       "    <tr>\n",
       "      <td>31824</td>\n",
       "      <td>38.836646</td>\n",
       "      <td>-76.993589</td>\n",
       "    </tr>\n",
       "    <tr>\n",
       "      <td>31718</td>\n",
       "      <td>38.876227</td>\n",
       "      <td>-76.940981</td>\n",
       "    </tr>\n",
       "    <tr>\n",
       "      <td>31825</td>\n",
       "      <td>38.857369</td>\n",
       "      <td>-76.977688</td>\n",
       "    </tr>\n",
       "    <tr>\n",
       "      <td>31325</td>\n",
       "      <td>38.912614</td>\n",
       "      <td>-77.074323</td>\n",
       "    </tr>\n",
       "    <tr>\n",
       "      <td>31127</td>\n",
       "      <td>38.898925</td>\n",
       "      <td>-77.048852</td>\n",
       "    </tr>\n",
       "  </tbody>\n",
       "</table>\n",
       "<p>579 rows × 2 columns</p>\n",
       "</div>"
      ],
      "text/plain": [
       "                            lat        lon\n",
       "Start station number                      \n",
       "31000                 38.858971 -77.053230\n",
       "31001                 38.857250 -77.053320\n",
       "31002                 38.856425 -77.049232\n",
       "31003                 38.860170 -77.049593\n",
       "31004                 38.857866 -77.059490\n",
       "...                         ...        ...\n",
       "31824                 38.836646 -76.993589\n",
       "31718                 38.876227 -76.940981\n",
       "31825                 38.857369 -76.977688\n",
       "31325                 38.912614 -77.074323\n",
       "31127                 38.898925 -77.048852\n",
       "\n",
       "[579 rows x 2 columns]"
      ]
     },
     "execution_count": 134,
     "metadata": {},
     "output_type": "execute_result"
    }
   ],
   "source": [
    "stations_summary"
   ]
  },
  {
   "cell_type": "code",
   "execution_count": null,
   "metadata": {},
   "outputs": [],
   "source": [
    "result_allQs_stst=result_allQs.merge(stations_summary, on='Start s')"
   ]
  },
  {
   "cell_type": "code",
   "execution_count": 127,
   "metadata": {},
   "outputs": [
    {
     "ename": "MemoryError",
     "evalue": "",
     "output_type": "error",
     "traceback": [
      "\u001b[1;31m---------------------------------------------------------------------------\u001b[0m",
      "\u001b[1;31mMemoryError\u001b[0m                               Traceback (most recent call last)",
      "\u001b[1;32m<ipython-input-127-ac7ebfccaeba>\u001b[0m in \u001b[0;36m<module>\u001b[1;34m\u001b[0m\n\u001b[1;32m----> 1\u001b[1;33m \u001b[0mresult_allQs\u001b[0m\u001b[1;33m[\u001b[0m\u001b[1;34m'Start station number'\u001b[0m\u001b[1;33m]\u001b[0m \u001b[1;33m=\u001b[0m \u001b[0mresult_allQs\u001b[0m\u001b[1;33m[\u001b[0m\u001b[1;34m'Start station number'\u001b[0m\u001b[1;33m]\u001b[0m\u001b[1;33m.\u001b[0m\u001b[0mastype\u001b[0m\u001b[1;33m(\u001b[0m\u001b[0mstr\u001b[0m\u001b[1;33m)\u001b[0m\u001b[1;33m\u001b[0m\u001b[1;33m\u001b[0m\u001b[0m\n\u001b[0m",
      "\u001b[1;32m~\\AppData\\Local\\Continuum\\anaconda3\\lib\\site-packages\\pandas\\core\\generic.py\u001b[0m in \u001b[0;36mastype\u001b[1;34m(self, dtype, copy, errors, **kwargs)\u001b[0m\n\u001b[0;32m   5880\u001b[0m             \u001b[1;31m# else, only a single dtype is given\u001b[0m\u001b[1;33m\u001b[0m\u001b[1;33m\u001b[0m\u001b[1;33m\u001b[0m\u001b[0m\n\u001b[0;32m   5881\u001b[0m             new_data = self._data.astype(\n\u001b[1;32m-> 5882\u001b[1;33m                 \u001b[0mdtype\u001b[0m\u001b[1;33m=\u001b[0m\u001b[0mdtype\u001b[0m\u001b[1;33m,\u001b[0m \u001b[0mcopy\u001b[0m\u001b[1;33m=\u001b[0m\u001b[0mcopy\u001b[0m\u001b[1;33m,\u001b[0m \u001b[0merrors\u001b[0m\u001b[1;33m=\u001b[0m\u001b[0merrors\u001b[0m\u001b[1;33m,\u001b[0m \u001b[1;33m**\u001b[0m\u001b[0mkwargs\u001b[0m\u001b[1;33m\u001b[0m\u001b[1;33m\u001b[0m\u001b[0m\n\u001b[0m\u001b[0;32m   5883\u001b[0m             )\n\u001b[0;32m   5884\u001b[0m             \u001b[1;32mreturn\u001b[0m \u001b[0mself\u001b[0m\u001b[1;33m.\u001b[0m\u001b[0m_constructor\u001b[0m\u001b[1;33m(\u001b[0m\u001b[0mnew_data\u001b[0m\u001b[1;33m)\u001b[0m\u001b[1;33m.\u001b[0m\u001b[0m__finalize__\u001b[0m\u001b[1;33m(\u001b[0m\u001b[0mself\u001b[0m\u001b[1;33m)\u001b[0m\u001b[1;33m\u001b[0m\u001b[1;33m\u001b[0m\u001b[0m\n",
      "\u001b[1;32m~\\AppData\\Local\\Continuum\\anaconda3\\lib\\site-packages\\pandas\\core\\internals\\managers.py\u001b[0m in \u001b[0;36mastype\u001b[1;34m(self, dtype, **kwargs)\u001b[0m\n\u001b[0;32m    579\u001b[0m \u001b[1;33m\u001b[0m\u001b[0m\n\u001b[0;32m    580\u001b[0m     \u001b[1;32mdef\u001b[0m \u001b[0mastype\u001b[0m\u001b[1;33m(\u001b[0m\u001b[0mself\u001b[0m\u001b[1;33m,\u001b[0m \u001b[0mdtype\u001b[0m\u001b[1;33m,\u001b[0m \u001b[1;33m**\u001b[0m\u001b[0mkwargs\u001b[0m\u001b[1;33m)\u001b[0m\u001b[1;33m:\u001b[0m\u001b[1;33m\u001b[0m\u001b[1;33m\u001b[0m\u001b[0m\n\u001b[1;32m--> 581\u001b[1;33m         \u001b[1;32mreturn\u001b[0m \u001b[0mself\u001b[0m\u001b[1;33m.\u001b[0m\u001b[0mapply\u001b[0m\u001b[1;33m(\u001b[0m\u001b[1;34m\"astype\"\u001b[0m\u001b[1;33m,\u001b[0m \u001b[0mdtype\u001b[0m\u001b[1;33m=\u001b[0m\u001b[0mdtype\u001b[0m\u001b[1;33m,\u001b[0m \u001b[1;33m**\u001b[0m\u001b[0mkwargs\u001b[0m\u001b[1;33m)\u001b[0m\u001b[1;33m\u001b[0m\u001b[1;33m\u001b[0m\u001b[0m\n\u001b[0m\u001b[0;32m    582\u001b[0m \u001b[1;33m\u001b[0m\u001b[0m\n\u001b[0;32m    583\u001b[0m     \u001b[1;32mdef\u001b[0m \u001b[0mconvert\u001b[0m\u001b[1;33m(\u001b[0m\u001b[0mself\u001b[0m\u001b[1;33m,\u001b[0m \u001b[1;33m**\u001b[0m\u001b[0mkwargs\u001b[0m\u001b[1;33m)\u001b[0m\u001b[1;33m:\u001b[0m\u001b[1;33m\u001b[0m\u001b[1;33m\u001b[0m\u001b[0m\n",
      "\u001b[1;32m~\\AppData\\Local\\Continuum\\anaconda3\\lib\\site-packages\\pandas\\core\\internals\\managers.py\u001b[0m in \u001b[0;36mapply\u001b[1;34m(self, f, axes, filter, do_integrity_check, consolidate, **kwargs)\u001b[0m\n\u001b[0;32m    436\u001b[0m                     \u001b[0mkwargs\u001b[0m\u001b[1;33m[\u001b[0m\u001b[0mk\u001b[0m\u001b[1;33m]\u001b[0m \u001b[1;33m=\u001b[0m \u001b[0mobj\u001b[0m\u001b[1;33m.\u001b[0m\u001b[0mreindex\u001b[0m\u001b[1;33m(\u001b[0m\u001b[0mb_items\u001b[0m\u001b[1;33m,\u001b[0m \u001b[0maxis\u001b[0m\u001b[1;33m=\u001b[0m\u001b[0maxis\u001b[0m\u001b[1;33m,\u001b[0m \u001b[0mcopy\u001b[0m\u001b[1;33m=\u001b[0m\u001b[0malign_copy\u001b[0m\u001b[1;33m)\u001b[0m\u001b[1;33m\u001b[0m\u001b[1;33m\u001b[0m\u001b[0m\n\u001b[0;32m    437\u001b[0m \u001b[1;33m\u001b[0m\u001b[0m\n\u001b[1;32m--> 438\u001b[1;33m             \u001b[0mapplied\u001b[0m \u001b[1;33m=\u001b[0m \u001b[0mgetattr\u001b[0m\u001b[1;33m(\u001b[0m\u001b[0mb\u001b[0m\u001b[1;33m,\u001b[0m \u001b[0mf\u001b[0m\u001b[1;33m)\u001b[0m\u001b[1;33m(\u001b[0m\u001b[1;33m**\u001b[0m\u001b[0mkwargs\u001b[0m\u001b[1;33m)\u001b[0m\u001b[1;33m\u001b[0m\u001b[1;33m\u001b[0m\u001b[0m\n\u001b[0m\u001b[0;32m    439\u001b[0m             \u001b[0mresult_blocks\u001b[0m \u001b[1;33m=\u001b[0m \u001b[0m_extend_blocks\u001b[0m\u001b[1;33m(\u001b[0m\u001b[0mapplied\u001b[0m\u001b[1;33m,\u001b[0m \u001b[0mresult_blocks\u001b[0m\u001b[1;33m)\u001b[0m\u001b[1;33m\u001b[0m\u001b[1;33m\u001b[0m\u001b[0m\n\u001b[0;32m    440\u001b[0m \u001b[1;33m\u001b[0m\u001b[0m\n",
      "\u001b[1;32m~\\AppData\\Local\\Continuum\\anaconda3\\lib\\site-packages\\pandas\\core\\internals\\blocks.py\u001b[0m in \u001b[0;36mastype\u001b[1;34m(self, dtype, copy, errors, values, **kwargs)\u001b[0m\n\u001b[0;32m    557\u001b[0m \u001b[1;33m\u001b[0m\u001b[0m\n\u001b[0;32m    558\u001b[0m     \u001b[1;32mdef\u001b[0m \u001b[0mastype\u001b[0m\u001b[1;33m(\u001b[0m\u001b[0mself\u001b[0m\u001b[1;33m,\u001b[0m \u001b[0mdtype\u001b[0m\u001b[1;33m,\u001b[0m \u001b[0mcopy\u001b[0m\u001b[1;33m=\u001b[0m\u001b[1;32mFalse\u001b[0m\u001b[1;33m,\u001b[0m \u001b[0merrors\u001b[0m\u001b[1;33m=\u001b[0m\u001b[1;34m\"raise\"\u001b[0m\u001b[1;33m,\u001b[0m \u001b[0mvalues\u001b[0m\u001b[1;33m=\u001b[0m\u001b[1;32mNone\u001b[0m\u001b[1;33m,\u001b[0m \u001b[1;33m**\u001b[0m\u001b[0mkwargs\u001b[0m\u001b[1;33m)\u001b[0m\u001b[1;33m:\u001b[0m\u001b[1;33m\u001b[0m\u001b[1;33m\u001b[0m\u001b[0m\n\u001b[1;32m--> 559\u001b[1;33m         \u001b[1;32mreturn\u001b[0m \u001b[0mself\u001b[0m\u001b[1;33m.\u001b[0m\u001b[0m_astype\u001b[0m\u001b[1;33m(\u001b[0m\u001b[0mdtype\u001b[0m\u001b[1;33m,\u001b[0m \u001b[0mcopy\u001b[0m\u001b[1;33m=\u001b[0m\u001b[0mcopy\u001b[0m\u001b[1;33m,\u001b[0m \u001b[0merrors\u001b[0m\u001b[1;33m=\u001b[0m\u001b[0merrors\u001b[0m\u001b[1;33m,\u001b[0m \u001b[0mvalues\u001b[0m\u001b[1;33m=\u001b[0m\u001b[0mvalues\u001b[0m\u001b[1;33m,\u001b[0m \u001b[1;33m**\u001b[0m\u001b[0mkwargs\u001b[0m\u001b[1;33m)\u001b[0m\u001b[1;33m\u001b[0m\u001b[1;33m\u001b[0m\u001b[0m\n\u001b[0m\u001b[0;32m    560\u001b[0m \u001b[1;33m\u001b[0m\u001b[0m\n\u001b[0;32m    561\u001b[0m     \u001b[1;32mdef\u001b[0m \u001b[0m_astype\u001b[0m\u001b[1;33m(\u001b[0m\u001b[0mself\u001b[0m\u001b[1;33m,\u001b[0m \u001b[0mdtype\u001b[0m\u001b[1;33m,\u001b[0m \u001b[0mcopy\u001b[0m\u001b[1;33m=\u001b[0m\u001b[1;32mFalse\u001b[0m\u001b[1;33m,\u001b[0m \u001b[0merrors\u001b[0m\u001b[1;33m=\u001b[0m\u001b[1;34m\"raise\"\u001b[0m\u001b[1;33m,\u001b[0m \u001b[0mvalues\u001b[0m\u001b[1;33m=\u001b[0m\u001b[1;32mNone\u001b[0m\u001b[1;33m,\u001b[0m \u001b[1;33m**\u001b[0m\u001b[0mkwargs\u001b[0m\u001b[1;33m)\u001b[0m\u001b[1;33m:\u001b[0m\u001b[1;33m\u001b[0m\u001b[1;33m\u001b[0m\u001b[0m\n",
      "\u001b[1;32m~\\AppData\\Local\\Continuum\\anaconda3\\lib\\site-packages\\pandas\\core\\internals\\blocks.py\u001b[0m in \u001b[0;36m_astype\u001b[1;34m(self, dtype, copy, errors, values, **kwargs)\u001b[0m\n\u001b[0;32m    641\u001b[0m                     \u001b[1;31m# _astype_nansafe works fine with 1-d only\u001b[0m\u001b[1;33m\u001b[0m\u001b[1;33m\u001b[0m\u001b[1;33m\u001b[0m\u001b[0m\n\u001b[0;32m    642\u001b[0m                     \u001b[0mvals1d\u001b[0m \u001b[1;33m=\u001b[0m \u001b[0mvalues\u001b[0m\u001b[1;33m.\u001b[0m\u001b[0mravel\u001b[0m\u001b[1;33m(\u001b[0m\u001b[1;33m)\u001b[0m\u001b[1;33m\u001b[0m\u001b[1;33m\u001b[0m\u001b[0m\n\u001b[1;32m--> 643\u001b[1;33m                     \u001b[0mvalues\u001b[0m \u001b[1;33m=\u001b[0m \u001b[0mastype_nansafe\u001b[0m\u001b[1;33m(\u001b[0m\u001b[0mvals1d\u001b[0m\u001b[1;33m,\u001b[0m \u001b[0mdtype\u001b[0m\u001b[1;33m,\u001b[0m \u001b[0mcopy\u001b[0m\u001b[1;33m=\u001b[0m\u001b[1;32mTrue\u001b[0m\u001b[1;33m,\u001b[0m \u001b[1;33m**\u001b[0m\u001b[0mkwargs\u001b[0m\u001b[1;33m)\u001b[0m\u001b[1;33m\u001b[0m\u001b[1;33m\u001b[0m\u001b[0m\n\u001b[0m\u001b[0;32m    644\u001b[0m \u001b[1;33m\u001b[0m\u001b[0m\n\u001b[0;32m    645\u001b[0m                 \u001b[1;31m# TODO(extension)\u001b[0m\u001b[1;33m\u001b[0m\u001b[1;33m\u001b[0m\u001b[1;33m\u001b[0m\u001b[0m\n",
      "\u001b[1;32m~\\AppData\\Local\\Continuum\\anaconda3\\lib\\site-packages\\pandas\\core\\dtypes\\cast.py\u001b[0m in \u001b[0;36mastype_nansafe\u001b[1;34m(arr, dtype, copy, skipna)\u001b[0m\n\u001b[0;32m    654\u001b[0m \u001b[1;33m\u001b[0m\u001b[0m\n\u001b[0;32m    655\u001b[0m     \u001b[1;32mif\u001b[0m \u001b[0missubclass\u001b[0m\u001b[1;33m(\u001b[0m\u001b[0mdtype\u001b[0m\u001b[1;33m.\u001b[0m\u001b[0mtype\u001b[0m\u001b[1;33m,\u001b[0m \u001b[0mstr\u001b[0m\u001b[1;33m)\u001b[0m\u001b[1;33m:\u001b[0m\u001b[1;33m\u001b[0m\u001b[1;33m\u001b[0m\u001b[0m\n\u001b[1;32m--> 656\u001b[1;33m         \u001b[1;32mreturn\u001b[0m \u001b[0mlib\u001b[0m\u001b[1;33m.\u001b[0m\u001b[0mastype_str\u001b[0m\u001b[1;33m(\u001b[0m\u001b[0marr\u001b[0m\u001b[1;33m.\u001b[0m\u001b[0mravel\u001b[0m\u001b[1;33m(\u001b[0m\u001b[1;33m)\u001b[0m\u001b[1;33m,\u001b[0m \u001b[0mskipna\u001b[0m\u001b[1;33m=\u001b[0m\u001b[0mskipna\u001b[0m\u001b[1;33m)\u001b[0m\u001b[1;33m.\u001b[0m\u001b[0mreshape\u001b[0m\u001b[1;33m(\u001b[0m\u001b[0marr\u001b[0m\u001b[1;33m.\u001b[0m\u001b[0mshape\u001b[0m\u001b[1;33m)\u001b[0m\u001b[1;33m\u001b[0m\u001b[1;33m\u001b[0m\u001b[0m\n\u001b[0m\u001b[0;32m    657\u001b[0m \u001b[1;33m\u001b[0m\u001b[0m\n\u001b[0;32m    658\u001b[0m     \u001b[1;32melif\u001b[0m \u001b[0mis_datetime64_dtype\u001b[0m\u001b[1;33m(\u001b[0m\u001b[0marr\u001b[0m\u001b[1;33m)\u001b[0m\u001b[1;33m:\u001b[0m\u001b[1;33m\u001b[0m\u001b[1;33m\u001b[0m\u001b[0m\n",
      "\u001b[1;32mpandas\\_libs\\lib.pyx\u001b[0m in \u001b[0;36mpandas._libs.lib.astype_str\u001b[1;34m()\u001b[0m\n",
      "\u001b[1;31mMemoryError\u001b[0m: "
     ]
    }
   ],
   "source": [
    "#result_allQs['Start station number'] = result_allQs['Start station number'].astype(str)"
   ]
  },
  {
   "cell_type": "code",
   "execution_count": null,
   "metadata": {},
   "outputs": [],
   "source": []
  }
 ],
 "metadata": {
  "kernelspec": {
   "display_name": "Python 3",
   "language": "python",
   "name": "python3"
  },
  "language_info": {
   "codemirror_mode": {
    "name": "ipython",
    "version": 3
   },
   "file_extension": ".py",
   "mimetype": "text/x-python",
   "name": "python",
   "nbconvert_exporter": "python",
   "pygments_lexer": "ipython3",
   "version": "3.7.4"
  }
 },
 "nbformat": 4,
 "nbformat_minor": 2
}
