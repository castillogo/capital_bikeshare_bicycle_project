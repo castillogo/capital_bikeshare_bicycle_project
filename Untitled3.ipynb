{
 "cells": [
  {
   "cell_type": "code",
   "execution_count": 2,
   "metadata": {},
   "outputs": [],
   "source": [
    "import numpy as np\n",
    "from matplotlib import pyplot as plt\n",
    "\n",
    "%matplotlib inline"
   ]
  },
  {
   "cell_type": "code",
   "execution_count": 3,
   "metadata": {},
   "outputs": [],
   "source": [
    "x = np.random.random(size=100)*10\n",
    "y=4*x+3"
   ]
  },
  {
   "cell_type": "code",
   "execution_count": 6,
   "metadata": {},
   "outputs": [],
   "source": [
    "noise = np.random.normal(0.0, 4.0, size=(100))\n",
    "ytrain = y + noise"
   ]
  },
  {
   "cell_type": "code",
   "execution_count": 11,
   "metadata": {},
   "outputs": [
    {
     "data": {
      "text/plain": [
       "[<matplotlib.lines.Line2D at 0x1af640fe848>]"
      ]
     },
     "execution_count": 11,
     "metadata": {},
     "output_type": "execute_result"
    },
    {
     "data": {
      "image/png": "[encoded data removed]",
      "text/plain": [
       "<Figure size 432x288 with 1 Axes>"
      ]
     },
     "metadata": {
      "needs_background": "light"
     },
     "output_type": "display_data"
    }
   ],
   "source": [
    "plt.plot(x, y, 'r-')\n",
    "plt.plot(x, ytrain, 'bo')"
   ]
  },
  {
   "cell_type": "code",
   "execution_count": 25,
   "metadata": {},
   "outputs": [],
   "source": [
    "best_mse = np.Inf\n",
    "best_a, best_b = None, None\n",
    "for i in range(1000):\n",
    "    a = np.random.random()*10\n",
    "    b = np.random.random()*10\n",
    "    yhat= a*x +b\n",
    "    mse = np.sum((yhat-ytrain)**2)/yhat.shape[0]\n",
    "    if mse <= best_mse:\n",
    "        best_mse= mse\n",
    "        best_a = a\n",
    "        best_b = b\n",
    "    "
   ]
  },
  {
   "cell_type": "code",
   "execution_count": 26,
   "metadata": {},
   "outputs": [],
   "source": [
    "yhat = best_a*x +best_b"
   ]
  },
  {
   "cell_type": "code",
   "execution_count": 27,
   "metadata": {},
   "outputs": [
    {
     "data": {
      "text/plain": [
       "[<matplotlib.lines.Line2D at 0x1af6541bd08>]"
      ]
     },
     "execution_count": 27,
     "metadata": {},
     "output_type": "execute_result"
    },
    {
     "data": {
      "image/png": "[encoded data removed]",
      "text/plain": [
       "<Figure size 432x288 with 1 Axes>"
      ]
     },
     "metadata": {
      "needs_background": "light"
     },
     "output_type": "display_data"
    }
   ],
   "source": [
    "plt.plot(x, y, 'r-')\n",
    "plt.plot(x, ytrain, 'bo')\n",
    "plt.plot(x,yhat, 'b-')"
   ]
  },
  {
   "cell_type": "code",
   "execution_count": 29,
   "metadata": {},
   "outputs": [],
   "source": [
    "from sklearn.linear_model import LinearRegression\n",
    "from sklearn.metrics import mean_squared_error"
   ]
  },
  {
   "cell_type": "code",
   "execution_count": 30,
   "metadata": {},
   "outputs": [
    {
     "data": {
      "text/plain": [
       "14.98156127053299"
      ]
     },
     "execution_count": 30,
     "metadata": {},
     "output_type": "execute_result"
    }
   ],
   "source": [
    "best_mse"
   ]
  },
  {
   "cell_type": "code",
   "execution_count": 43,
   "metadata": {},
   "outputs": [],
   "source": [
    "mean_squared_error(ytrain, yhat)\n",
    "xtrain=x.reshape(-1,1)"
   ]
  },
  {
   "cell_type": "code",
   "execution_count": 44,
   "metadata": {},
   "outputs": [],
   "source": [
    "m = LinearRegression()"
   ]
  },
  {
   "cell_type": "code",
   "execution_count": 45,
   "metadata": {},
   "outputs": [
    {
     "data": {
      "text/plain": [
       "LinearRegression(copy_X=True, fit_intercept=True, n_jobs=None, normalize=False)"
      ]
     },
     "execution_count": 45,
     "metadata": {},
     "output_type": "execute_result"
    }
   ],
   "source": [
    "m.fit(xtrain, ytrain)"
   ]
  },
  {
   "cell_type": "code",
   "execution_count": 47,
   "metadata": {},
   "outputs": [
    {
     "data": {
      "text/plain": [
       "0.9127790761139445"
      ]
     },
     "execution_count": 47,
     "metadata": {},
     "output_type": "execute_result"
    }
   ],
   "source": [
    "m.score(xtrain, ytrain) # this is a R^2, not an accuracy!!!!"
   ]
  },
  {
   "cell_type": "code",
   "execution_count": 48,
   "metadata": {},
   "outputs": [
    {
     "data": {
      "text/plain": [
       "array([7.04360416, 8.29478571, 7.70710728, 9.46592268, 6.09680862,\n",
       "       9.95568636, 1.82225939, 9.04295872, 0.90068721, 6.72164596,\n",
       "       5.28862088, 6.01359016, 7.15777472, 8.98102562, 6.87205815,\n",
       "       0.90246934, 7.80969023, 3.15965207, 9.93151797, 4.13957406,\n",
       "       2.68078332, 3.80408256, 2.11871154, 0.16623173, 9.55094391,\n",
       "       8.62762265, 0.32479765, 6.36889649, 7.70702563, 9.74552298,\n",
       "       8.36678573, 0.5739095 , 2.69231109, 0.24868817, 7.55386707,\n",
       "       7.82693305, 9.15389946, 1.22856653, 0.64601759, 4.86383547,\n",
       "       0.33537818, 0.15836274, 2.79794412, 3.27415818, 6.2805472 ,\n",
       "       1.70174009, 4.08837682, 3.897711  , 9.71299074, 9.37189882,\n",
       "       0.20927453, 4.87969243, 4.87488843, 9.19380396, 5.66675602,\n",
       "       1.67564491, 8.69112847, 1.24621912, 1.72293996, 4.98896609,\n",
       "       9.10473611, 3.86784493, 6.20839017, 8.39640003, 0.5441243 ,\n",
       "       9.95103978, 7.23048939, 7.60165217, 5.30151982, 9.50064303,\n",
       "       5.21773603, 5.55880371, 8.92053748, 1.31534042, 3.32343027,\n",
       "       2.7067058 , 1.98203522, 7.39588549, 9.99482305, 9.06155449,\n",
       "       6.67494566, 4.83595287, 3.73152899, 5.0486561 , 5.84188784,\n",
       "       0.53727859, 8.06396448, 1.27453921, 3.34084702, 1.77445415,\n",
       "       5.79184342, 8.38865324, 4.54618631, 0.25486779, 7.37913339,\n",
       "       9.95373097, 4.06640471, 7.14081569, 5.86076843, 4.44784104])"
      ]
     },
     "execution_count": 48,
     "metadata": {},
     "output_type": "execute_result"
    }
   ],
   "source": [
    "x"
   ]
  },
  {
   "cell_type": "code",
   "execution_count": 49,
   "metadata": {},
   "outputs": [],
   "source": [
    "ypred =m.predict"
   ]
  },
  {
   "cell_type": "code",
   "execution_count": 50,
   "metadata": {},
   "outputs": [
    {
     "data": {
      "text/plain": [
       "<bound method LinearModel.predict of LinearRegression(copy_X=True, fit_intercept=True, n_jobs=None, normalize=False)>"
      ]
     },
     "execution_count": 50,
     "metadata": {},
     "output_type": "execute_result"
    }
   ],
   "source": [
    "ypred"
   ]
  },
  {
   "cell_type": "code",
   "execution_count": 51,
   "metadata": {},
   "outputs": [
    {
     "data": {
      "text/plain": [
       "14.98156127053299"
      ]
     },
     "execution_count": 51,
     "metadata": {},
     "output_type": "execute_result"
    }
   ],
   "source": [
    "mean_squared_error(ytrain, yhat)"
   ]
  },
  {
   "cell_type": "code",
   "execution_count": 53,
   "metadata": {},
   "outputs": [
    {
     "data": {
      "text/plain": [
       "(array([4.0223879]), 3.2824485058508728)"
      ]
     },
     "execution_count": 53,
     "metadata": {},
     "output_type": "execute_result"
    }
   ],
   "source": [
    "m.coef_, m.intercept_"
   ]
  },
  {
   "cell_type": "code",
   "execution_count": 54,
   "metadata": {},
   "outputs": [
    {
     "data": {
      "text/plain": [
       "array([83.73020655])"
      ]
     },
     "execution_count": 54,
     "metadata": {},
     "output_type": "execute_result"
    }
   ],
   "source": [
    "m.predict([[20]])"
   ]
  },
  {
   "cell_type": "code",
   "execution_count": null,
   "metadata": {},
   "outputs": [],
   "source": []
  }
 ],
 "metadata": {
  "kernelspec": {
   "display_name": "Python 3",
   "language": "python",
   "name": "python3"
  },
  "language_info": {
   "codemirror_mode": {
    "name": "ipython",
    "version": 3
   },
   "file_extension": ".py",
   "mimetype": "text/x-python",
   "name": "python",
   "nbconvert_exporter": "python",
   "pygments_lexer": "ipython3",
   "version": "3.7.4"
  }
 },
 "nbformat": 4,
 "nbformat_minor": 2
}
