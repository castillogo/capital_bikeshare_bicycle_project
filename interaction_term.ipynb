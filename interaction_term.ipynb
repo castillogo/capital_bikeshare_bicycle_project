{
 "cells": [
  {
   "cell_type": "code",
   "execution_count": 77,
   "metadata": {},
   "outputs": [],
   "source": [
    "import pandas as pd\n",
    "import numpy as np\n",
    "import matplotlib.pyplot as plt"
   ]
  },
  {
   "cell_type": "code",
   "execution_count": 78,
   "metadata": {},
   "outputs": [],
   "source": [
    "def true_fun(experience, uni, n_sample):\n",
    "    return 20_000 + 1000*experience + 5000*uni + 1000*experience*uni + np.random.randn(n_sample) * 10000"
   ]
  },
  {
   "cell_type": "code",
   "execution_count": 79,
   "metadata": {},
   "outputs": [],
   "source": [
    "n_sample = 50\n",
    "np.random.seed(0)\n",
    "\n",
    "uni = np.random.randint(2, size=n_sample)\n",
    "experience = np.random.randint(30, size=n_sample)"
   ]
  },
  {
   "cell_type": "code",
   "execution_count": 80,
   "metadata": {},
   "outputs": [],
   "source": [
    "salaries = true_fun(experience, uni, n_sample)"
   ]
  },
  {
   "cell_type": "code",
   "execution_count": 81,
   "metadata": {},
   "outputs": [
    {
     "data": {
      "text/plain": [
       "array([14903.47818248, 22619.25698389, 30472.0463995 , 52774.90355832,\n",
       "        8861.02152442, 42872.59719786, 56045.33438806, 74869.02497859,\n",
       "       25891.94862431, 35193.67815878, 60718.17771661, 47283.3187053 ,\n",
       "       48665.17222383, 32024.7189774 , 13656.77906319, 16372.58834013,\n",
       "       17275.39552224, 37404.46838459, 16868.53717956, 19737.17397668,\n",
       "       29774.26142254, 60982.19063792, 42698.01653034, 39627.82255526,\n",
       "       14927.01635617, 43519.45395796, 52290.90562178, 78289.82910757,\n",
       "       84394.00684543,  8651.74179646, 31023.41641178, 20151.8990906 ,\n",
       "       34292.02850818, 39211.50335236, 27884.47467873, 37561.6534223 ,\n",
       "       31348.50159217, 56008.26486954, 57656.6243973 , 22637.56313723,\n",
       "       61882.52193796, 43958.89176031, 45787.7957116 , 29200.75164188,\n",
       "       56292.47378489, 59544.51726931, 70968.23053027, 57224.45070382,\n",
       "       42082.74978077, 56766.39036484])"
      ]
     },
     "execution_count": 81,
     "metadata": {},
     "output_type": "execute_result"
    }
   ],
   "source": [
    "salaries"
   ]
  },
  {
   "cell_type": "code",
   "execution_count": 82,
   "metadata": {},
   "outputs": [
    {
     "data": {
      "text/plain": [
       "array([ 0,  1,  9, 25,  0, 10, 20, 23,  3, 11, 18, 23, 28,  2,  0,  0,  4,\n",
       "       21,  5,  6,  8, 20, 17, 15,  4,  9, 10, 26, 24,  1,  1,  7,  9, 25,\n",
       "        3,  6, 23, 11, 14, 18, 27,  0, 14,  3, 21, 12, 25, 10, 20, 11])"
      ]
     },
     "execution_count": 82,
     "metadata": {},
     "output_type": "execute_result"
    }
   ],
   "source": [
    "experience"
   ]
  },
  {
   "cell_type": "code",
   "execution_count": 83,
   "metadata": {},
   "outputs": [],
   "source": [
    "df = pd.DataFrame([salaries, experience, uni], index=['salaries', 'experience', 'uni']).transpose()"
   ]
  },
  {
   "cell_type": "code",
   "execution_count": 84,
   "metadata": {},
   "outputs": [
    {
     "data": {
      "text/plain": [
       "<matplotlib.axes._subplots.AxesSubplot at 0x1a1e5d68d0>"
      ]
     },
     "execution_count": 84,
     "metadata": {},
     "output_type": "execute_result"
    },
    {
     "data": {
      "image/png": "[encoded data removed]",
      "text/plain": [
       "<Figure size 432x288 with 1 Axes>"
      ]
     },
     "metadata": {
      "needs_background": "light"
     },
     "output_type": "display_data"
    }
   ],
   "source": [
    "df.sort_values('experience').plot(x='experience', y='salaries', kind='scatter')"
   ]
  },
  {
   "cell_type": "code",
   "execution_count": 85,
   "metadata": {},
   "outputs": [],
   "source": [
    "from sklearn.linear_model import LinearRegression\n",
    "from sklearn.preprocessing import PolynomialFeatures"
   ]
  },
  {
   "cell_type": "code",
   "execution_count": 97,
   "metadata": {},
   "outputs": [],
   "source": [
    "m = LinearRegression()\n",
    "poly = PolynomialFeatures(interaction_only=True)\n",
    "poly_features = poly.fit_transform(df[['experience', 'uni']])\n",
    "m.fit(poly_features, df['salaries'])\n",
    "ypred_exp = m.predict(poly_features)"
   ]
  },
  {
   "cell_type": "code",
   "execution_count": 96,
   "metadata": {},
   "outputs": [],
   "source": [
    "df.sort_values('experience', inplace=True)"
   ]
  },
  {
   "cell_type": "code",
   "execution_count": 100,
   "metadata": {},
   "outputs": [],
   "source": [
    "def plot_results(ypred, y_true, x):\n",
    "    plt.figure(figsize=(12, 8))\n",
    "    plt.scatter(x, y_true, color='b')\n",
    "    plt.scatter(x, ypred, color='r')\n",
    "    plt.show()"
   ]
  },
  {
   "cell_type": "code",
   "execution_count": 101,
   "metadata": {},
   "outputs": [
    {
     "data": {
      "image/png": "[encoded data removed]",
      "text/plain": [
       "<Figure size 864x576 with 1 Axes>"
      ]
     },
     "metadata": {
      "needs_background": "light"
     },
     "output_type": "display_data"
    }
   ],
   "source": [
    "plot_results(ypred_exp, df['salaries'], df[['experience']])"
   ]
  },
  {
   "cell_type": "code",
   "execution_count": null,
   "metadata": {},
   "outputs": [],
   "source": []
  }
 ],
 "metadata": {
  "kernelspec": {
   "display_name": "Python 3",
   "language": "python",
   "name": "python3"
  },
  "language_info": {
   "codemirror_mode": {
    "name": "ipython",
    "version": 3
   },
   "file_extension": ".py",
   "mimetype": "text/x-python",
   "name": "python",
   "nbconvert_exporter": "python",
   "pygments_lexer": "ipython3",
   "version": "3.7.3"
  }
 },
 "nbformat": 4,
 "nbformat_minor": 4
}
